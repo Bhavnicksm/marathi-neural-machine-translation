{
  "nbformat": 4,
  "nbformat_minor": 0,
  "metadata": {
    "colab": {
      "name": "nmt_seq2seq_attention_main.ipynb",
      "provenance": [],
      "collapsed_sections": [
        "DRM-bUZo60qp",
        "La4DKCxV65JZ",
        "heI-Yc9i8pBc"
      ],
      "authorship_tag": "ABX9TyMQnTps5DXNxUuGqmQekxvS",
      "include_colab_link": true
    },
    "kernelspec": {
      "name": "python3",
      "display_name": "Python 3"
    },
    "widgets": {
      "application/vnd.jupyter.widget-state+json": {
        "0fd7f124045448ab8a5a521e59070bd7": {
          "model_module": "@jupyter-widgets/controls",
          "model_name": "HBoxModel",
          "state": {
            "_view_name": "HBoxView",
            "_dom_classes": [],
            "_model_name": "HBoxModel",
            "_view_module": "@jupyter-widgets/controls",
            "_model_module_version": "1.5.0",
            "_view_count": null,
            "_view_module_version": "1.5.0",
            "box_style": "",
            "layout": "IPY_MODEL_00d758c245de46c1be6df4dd0c471efd",
            "_model_module": "@jupyter-widgets/controls",
            "children": [
              "IPY_MODEL_68ff94473b6d4ea09e2fa3ed0ec8bcf5",
              "IPY_MODEL_dfe77ed4e41e4f5b8bc952200284f2cf"
            ]
          }
        },
        "00d758c245de46c1be6df4dd0c471efd": {
          "model_module": "@jupyter-widgets/base",
          "model_name": "LayoutModel",
          "state": {
            "_view_name": "LayoutView",
            "grid_template_rows": null,
            "right": null,
            "justify_content": null,
            "_view_module": "@jupyter-widgets/base",
            "overflow": null,
            "_model_module_version": "1.2.0",
            "_view_count": null,
            "flex_flow": null,
            "width": null,
            "min_width": null,
            "border": null,
            "align_items": null,
            "bottom": null,
            "_model_module": "@jupyter-widgets/base",
            "top": null,
            "grid_column": null,
            "overflow_y": null,
            "overflow_x": null,
            "grid_auto_flow": null,
            "grid_area": null,
            "grid_template_columns": null,
            "flex": null,
            "_model_name": "LayoutModel",
            "justify_items": null,
            "grid_row": null,
            "max_height": null,
            "align_content": null,
            "visibility": null,
            "align_self": null,
            "height": null,
            "min_height": null,
            "padding": null,
            "grid_auto_rows": null,
            "grid_gap": null,
            "max_width": null,
            "order": null,
            "_view_module_version": "1.2.0",
            "grid_template_areas": null,
            "object_position": null,
            "object_fit": null,
            "grid_auto_columns": null,
            "margin": null,
            "display": null,
            "left": null
          }
        },
        "68ff94473b6d4ea09e2fa3ed0ec8bcf5": {
          "model_module": "@jupyter-widgets/controls",
          "model_name": "FloatProgressModel",
          "state": {
            "_view_name": "ProgressView",
            "style": "IPY_MODEL_2971ef670d9445c898f1e2099d730ee4",
            "_dom_classes": [],
            "description": "loss:  3.38620: 100%",
            "_model_name": "FloatProgressModel",
            "bar_style": "success",
            "max": 100,
            "_view_module": "@jupyter-widgets/controls",
            "_model_module_version": "1.5.0",
            "value": 100,
            "_view_count": null,
            "_view_module_version": "1.5.0",
            "orientation": "horizontal",
            "min": 0,
            "description_tooltip": null,
            "_model_module": "@jupyter-widgets/controls",
            "layout": "IPY_MODEL_71c587f4a0d941159a623320e1be165f"
          }
        },
        "dfe77ed4e41e4f5b8bc952200284f2cf": {
          "model_module": "@jupyter-widgets/controls",
          "model_name": "HTMLModel",
          "state": {
            "_view_name": "HTMLView",
            "style": "IPY_MODEL_904d797302bb404d97a8e3070c16d6bc",
            "_dom_classes": [],
            "description": "",
            "_model_name": "HTMLModel",
            "placeholder": "​",
            "_view_module": "@jupyter-widgets/controls",
            "_model_module_version": "1.5.0",
            "value": " 100/100 [1:01:46&lt;00:00, 37.06s/it]",
            "_view_count": null,
            "_view_module_version": "1.5.0",
            "description_tooltip": null,
            "_model_module": "@jupyter-widgets/controls",
            "layout": "IPY_MODEL_c3aa261c7051407b89863907c2799863"
          }
        },
        "2971ef670d9445c898f1e2099d730ee4": {
          "model_module": "@jupyter-widgets/controls",
          "model_name": "ProgressStyleModel",
          "state": {
            "_view_name": "StyleView",
            "_model_name": "ProgressStyleModel",
            "description_width": "initial",
            "_view_module": "@jupyter-widgets/base",
            "_model_module_version": "1.5.0",
            "_view_count": null,
            "_view_module_version": "1.2.0",
            "bar_color": null,
            "_model_module": "@jupyter-widgets/controls"
          }
        },
        "71c587f4a0d941159a623320e1be165f": {
          "model_module": "@jupyter-widgets/base",
          "model_name": "LayoutModel",
          "state": {
            "_view_name": "LayoutView",
            "grid_template_rows": null,
            "right": null,
            "justify_content": null,
            "_view_module": "@jupyter-widgets/base",
            "overflow": null,
            "_model_module_version": "1.2.0",
            "_view_count": null,
            "flex_flow": null,
            "width": null,
            "min_width": null,
            "border": null,
            "align_items": null,
            "bottom": null,
            "_model_module": "@jupyter-widgets/base",
            "top": null,
            "grid_column": null,
            "overflow_y": null,
            "overflow_x": null,
            "grid_auto_flow": null,
            "grid_area": null,
            "grid_template_columns": null,
            "flex": null,
            "_model_name": "LayoutModel",
            "justify_items": null,
            "grid_row": null,
            "max_height": null,
            "align_content": null,
            "visibility": null,
            "align_self": null,
            "height": null,
            "min_height": null,
            "padding": null,
            "grid_auto_rows": null,
            "grid_gap": null,
            "max_width": null,
            "order": null,
            "_view_module_version": "1.2.0",
            "grid_template_areas": null,
            "object_position": null,
            "object_fit": null,
            "grid_auto_columns": null,
            "margin": null,
            "display": null,
            "left": null
          }
        },
        "904d797302bb404d97a8e3070c16d6bc": {
          "model_module": "@jupyter-widgets/controls",
          "model_name": "DescriptionStyleModel",
          "state": {
            "_view_name": "StyleView",
            "_model_name": "DescriptionStyleModel",
            "description_width": "",
            "_view_module": "@jupyter-widgets/base",
            "_model_module_version": "1.5.0",
            "_view_count": null,
            "_view_module_version": "1.2.0",
            "_model_module": "@jupyter-widgets/controls"
          }
        },
        "c3aa261c7051407b89863907c2799863": {
          "model_module": "@jupyter-widgets/base",
          "model_name": "LayoutModel",
          "state": {
            "_view_name": "LayoutView",
            "grid_template_rows": null,
            "right": null,
            "justify_content": null,
            "_view_module": "@jupyter-widgets/base",
            "overflow": null,
            "_model_module_version": "1.2.0",
            "_view_count": null,
            "flex_flow": null,
            "width": null,
            "min_width": null,
            "border": null,
            "align_items": null,
            "bottom": null,
            "_model_module": "@jupyter-widgets/base",
            "top": null,
            "grid_column": null,
            "overflow_y": null,
            "overflow_x": null,
            "grid_auto_flow": null,
            "grid_area": null,
            "grid_template_columns": null,
            "flex": null,
            "_model_name": "LayoutModel",
            "justify_items": null,
            "grid_row": null,
            "max_height": null,
            "align_content": null,
            "visibility": null,
            "align_self": null,
            "height": null,
            "min_height": null,
            "padding": null,
            "grid_auto_rows": null,
            "grid_gap": null,
            "max_width": null,
            "order": null,
            "_view_module_version": "1.2.0",
            "grid_template_areas": null,
            "object_position": null,
            "object_fit": null,
            "grid_auto_columns": null,
            "margin": null,
            "display": null,
            "left": null
          }
        }
      }
    }
  },
  "cells": [
    {
      "cell_type": "markdown",
      "metadata": {
        "id": "view-in-github",
        "colab_type": "text"
      },
      "source": [
        "<a href=\"https://colab.research.google.com/github/Bhavnicksm/marathi-neural-machine-translation/blob/main/nmt_seq2seq_attention_main.ipynb\" target=\"_parent\"><img src=\"https://colab.research.google.com/assets/colab-badge.svg\" alt=\"Open In Colab\"/></a>"
      ]
    },
    {
      "cell_type": "markdown",
      "metadata": {
        "id": "_m8OV0wClQDQ"
      },
      "source": [
        "Before beginning this notebook, ensure that you have data.csv in available in the working directory"
      ]
    },
    {
      "cell_type": "code",
      "metadata": {
        "id": "diGgpmn6_hO5"
      },
      "source": [
        "#!pip install torchtext==0.8.0"
      ],
      "execution_count": 3,
      "outputs": []
    },
    {
      "cell_type": "code",
      "metadata": {
        "id": "Vdbql_pf8PhO"
      },
      "source": [
        "#!python -m spacy download en"
      ],
      "execution_count": 4,
      "outputs": []
    },
    {
      "cell_type": "markdown",
      "metadata": {
        "id": "UkCLyMjMK0g_"
      },
      "source": [
        "## Hyperparameter declaration"
      ]
    },
    {
      "cell_type": "code",
      "metadata": {
        "id": "G-VxIa3PK5ZA"
      },
      "source": [
        "from argparse import Namespace"
      ],
      "execution_count": 16,
      "outputs": []
    },
    {
      "cell_type": "code",
      "metadata": {
        "id": "Mnp0_Z41K9OS"
      },
      "source": [
        "hype = Namespace(\r\n",
        "    LR = 0.1,\r\n",
        "    BATCH_SIZE = 128,\r\n",
        "    NUM_EPOCHS = 100,\r\n",
        "    CLIP = 1,\r\n",
        "    DEVICE = None,\r\n",
        "    save_checkpoint =True,\r\n",
        "    load_checkpoint = False\r\n",
        ")"
      ],
      "execution_count": 74,
      "outputs": []
    },
    {
      "cell_type": "code",
      "metadata": {
        "id": "ILw_JUj5MGTP"
      },
      "source": [
        "checkpoint = Namespace(\r\n",
        "    epoch_num = 0,\r\n",
        "    model_params = None,\r\n",
        "    optim_params = None,\r\n",
        "    scheduler_params = None,\r\n",
        "    losses = [],\r\n",
        ")"
      ],
      "execution_count": 18,
      "outputs": []
    },
    {
      "cell_type": "code",
      "metadata": {
        "colab": {
          "base_uri": "https://localhost:8080/"
        },
        "id": "sDHMJQQALwNZ",
        "outputId": "55058a67-86b8-4190-bcd2-8a9fb1c1fdb1"
      },
      "source": [
        "#example usage\r\n",
        "hype.BATCH_SIZE"
      ],
      "execution_count": 19,
      "outputs": [
        {
          "output_type": "execute_result",
          "data": {
            "text/plain": [
              "128"
            ]
          },
          "metadata": {
            "tags": []
          },
          "execution_count": 19
        }
      ]
    },
    {
      "cell_type": "code",
      "metadata": {
        "colab": {
          "base_uri": "https://localhost:8080/"
        },
        "id": "xqxGUlxQNzEo",
        "outputId": "1bf1cd81-bc69-4058-b55e-4b10d2e03abb"
      },
      "source": [
        "#to dict\r\n",
        "vars(hype)"
      ],
      "execution_count": 20,
      "outputs": [
        {
          "output_type": "execute_result",
          "data": {
            "text/plain": [
              "{'BATCH_SIZE': 128,\n",
              " 'CLIP': 1,\n",
              " 'DEVICE': None,\n",
              " 'LR': 0.1,\n",
              " 'NUM_EPOCHS': 10,\n",
              " 'load_checkpoint': False,\n",
              " 'save_checkpoint': True}"
            ]
          },
          "metadata": {
            "tags": []
          },
          "execution_count": 20
        }
      ]
    },
    {
      "cell_type": "markdown",
      "metadata": {
        "id": "wznA4tHCk3ZN"
      },
      "source": [
        "## Data Processing"
      ]
    },
    {
      "cell_type": "markdown",
      "metadata": {
        "id": "DRM-bUZo60qp"
      },
      "source": [
        "### Loading the data"
      ]
    },
    {
      "cell_type": "code",
      "metadata": {
        "id": "j2-a9XNPlOym"
      },
      "source": [
        "import pandas as pd\r\n",
        "import numpy as np\r\n",
        "import matplotlib.pyplot as plt\r\n",
        "\r\n",
        "%matplotlib inline"
      ],
      "execution_count": 21,
      "outputs": []
    },
    {
      "cell_type": "code",
      "metadata": {
        "colab": {
          "base_uri": "https://localhost:8080/",
          "height": 195
        },
        "id": "K1ftPojC5LWC",
        "outputId": "05d884ea-5b8b-4bf3-901e-6b892cb120d9"
      },
      "source": [
        "data = pd.read_csv('data.csv', header=None)\r\n",
        "data.columns = ['english', 'marathi']\r\n",
        "data.tail()"
      ],
      "execution_count": 23,
      "outputs": [
        {
          "output_type": "execute_result",
          "data": {
            "text/html": [
              "<div>\n",
              "<style scoped>\n",
              "    .dataframe tbody tr th:only-of-type {\n",
              "        vertical-align: middle;\n",
              "    }\n",
              "\n",
              "    .dataframe tbody tr th {\n",
              "        vertical-align: top;\n",
              "    }\n",
              "\n",
              "    .dataframe thead th {\n",
              "        text-align: right;\n",
              "    }\n",
              "</style>\n",
              "<table border=\"1\" class=\"dataframe\">\n",
              "  <thead>\n",
              "    <tr style=\"text-align: right;\">\n",
              "      <th></th>\n",
              "      <th>english</th>\n",
              "      <th>marathi</th>\n",
              "    </tr>\n",
              "  </thead>\n",
              "  <tbody>\n",
              "    <tr>\n",
              "      <th>40746</th>\n",
              "      <td>Just saying you don't like fish because of the...</td>\n",
              "      <td>हड्डींमुळे मासे आवडत नाही असं म्हणणं हे काय मा...</td>\n",
              "    </tr>\n",
              "    <tr>\n",
              "      <th>40747</th>\n",
              "      <td>The Japanese Parliament today officially elect...</td>\n",
              "      <td>आज जपानी संसदेने अधिकृतरित्या र्‍यौतारौ हाशिमो...</td>\n",
              "    </tr>\n",
              "    <tr>\n",
              "      <th>40748</th>\n",
              "      <td>Tom tried to sell his old VCR instead of throw...</td>\n",
              "      <td>टॉमने त्याचा जुना व्ही.सी.आर फेकून टाकण्याऐवजी...</td>\n",
              "    </tr>\n",
              "    <tr>\n",
              "      <th>40749</th>\n",
              "      <td>You can't view Flash content on an iPad. Howev...</td>\n",
              "      <td>आयपॅडवर फ्लॅश आशय बघता येत नाही. पण तुम्ही त्य...</td>\n",
              "    </tr>\n",
              "    <tr>\n",
              "      <th>40750</th>\n",
              "      <td>In 1969, Roger Miller recorded a song called \"...</td>\n",
              "      <td>१९६९मध्ये रॉजर मिलरने \"यू डोन्ट वॉन्ट माय लव्ह...</td>\n",
              "    </tr>\n",
              "  </tbody>\n",
              "</table>\n",
              "</div>"
            ],
            "text/plain": [
              "                                                 english                                            marathi\n",
              "40746  Just saying you don't like fish because of the...  हड्डींमुळे मासे आवडत नाही असं म्हणणं हे काय मा...\n",
              "40747  The Japanese Parliament today officially elect...  आज जपानी संसदेने अधिकृतरित्या र्‍यौतारौ हाशिमो...\n",
              "40748  Tom tried to sell his old VCR instead of throw...  टॉमने त्याचा जुना व्ही.सी.आर फेकून टाकण्याऐवजी...\n",
              "40749  You can't view Flash content on an iPad. Howev...  आयपॅडवर फ्लॅश आशय बघता येत नाही. पण तुम्ही त्य...\n",
              "40750  In 1969, Roger Miller recorded a song called \"...  १९६९मध्ये रॉजर मिलरने \"यू डोन्ट वॉन्ट माय लव्ह..."
            ]
          },
          "metadata": {
            "tags": []
          },
          "execution_count": 23
        }
      ]
    },
    {
      "cell_type": "markdown",
      "metadata": {
        "id": "La4DKCxV65JZ"
      },
      "source": [
        "### Building tokenizers"
      ]
    },
    {
      "cell_type": "code",
      "metadata": {
        "id": "K7B9lmEV6-YN"
      },
      "source": [
        "import re\r\n",
        "import string\r\n",
        "import spacy"
      ],
      "execution_count": 24,
      "outputs": []
    },
    {
      "cell_type": "code",
      "metadata": {
        "id": "-LRf3QcZ5UYr"
      },
      "source": [
        "#tokenizers for both\r\n",
        "\r\n",
        "def tokenize_mar(text):\r\n",
        "  for punc in string.punctuation:\r\n",
        "    text = text.replace(punc, \" \"+punc+\" \" )\r\n",
        "  return [tok.strip() for tok in re.split(r' ', text) if tok!='']\r\n",
        "\r\n",
        "spacy_en = spacy.load('en')\r\n",
        "\r\n",
        "def tokenize_eng(text):\r\n",
        "  return [tok.text for tok in spacy_en.tokenizer(text)]"
      ],
      "execution_count": 25,
      "outputs": []
    },
    {
      "cell_type": "code",
      "metadata": {
        "colab": {
          "base_uri": "https://localhost:8080/"
        },
        "id": "NikIP1q18A0N",
        "outputId": "01361821-8b69-4df4-fb7a-e66679b78752"
      },
      "source": [
        "#examples of tokenized sentences\r\n",
        "ex_tok_mar = tokenize_mar(data['marathi'][40000])\r\n",
        "print(ex_tok_mar)\r\n",
        "\r\n",
        "ex_tok_eng = tokenize_eng(data['english'][40000])\r\n",
        "print(ex_tok_eng)"
      ],
      "execution_count": 26,
      "outputs": [
        {
          "output_type": "stream",
          "text": [
            "['उद्याची', 'मीटिंग', 'कुठे', 'असणार', 'आहे', 'हे', 'तुम्हाला', 'माहीत', 'आहे', 'का', '?']\n",
            "['Do', 'you', 'know', 'where', 'tomorrow', \"'s\", 'meeting', 'is', 'going', 'to', 'be', '?']\n"
          ],
          "name": "stdout"
        }
      ]
    },
    {
      "cell_type": "markdown",
      "metadata": {
        "id": "heI-Yc9i8pBc"
      },
      "source": [
        "### Building Vocabularies"
      ]
    },
    {
      "cell_type": "code",
      "metadata": {
        "colab": {
          "base_uri": "https://localhost:8080/"
        },
        "id": "VslioD3n_IQk",
        "outputId": "e8429d70-e991-4873-de45-28d0c8262877"
      },
      "source": [
        "import torchtext\r\n",
        "from torchtext.vocab import Vocab\r\n",
        "from collections import Counter\r\n",
        "\r\n",
        "print(torchtext.__version__)"
      ],
      "execution_count": 27,
      "outputs": [
        {
          "output_type": "stream",
          "text": [
            "0.3.1\n"
          ],
          "name": "stdout"
        }
      ]
    },
    {
      "cell_type": "code",
      "metadata": {
        "id": "cPlbylwm-x_0"
      },
      "source": [
        "def build_vocab(data, tokenizer):\r\n",
        "  counter = Counter()\r\n",
        "  for text in data:\r\n",
        "    counter.update(tokenizer(text))\r\n",
        "  return Vocab(counter , specials=('<unk>','<pad>','<sos>','<eos>'),)"
      ],
      "execution_count": 85,
      "outputs": []
    },
    {
      "cell_type": "code",
      "metadata": {
        "id": "yxdcFTz0AI61"
      },
      "source": [
        "mar_vocab = build_vocab(data['marathi'],tokenize_mar)\r\n",
        "eng_vocab = build_vocab(data['english'],tokenize_eng)"
      ],
      "execution_count": 86,
      "outputs": []
    },
    {
      "cell_type": "code",
      "metadata": {
        "colab": {
          "base_uri": "https://localhost:8080/"
        },
        "id": "mYHsSxxGAWi5",
        "outputId": "1de58c9f-8d25-48e1-8d32-a508d5d1f738"
      },
      "source": [
        "print(f'Length of Marathi vocab: {len(mar_vocab)}')\r\n",
        "print(f'Length of English vocab: {len(eng_vocab)}')"
      ],
      "execution_count": 87,
      "outputs": [
        {
          "output_type": "stream",
          "text": [
            "Length of Marathi vocab: 13843\n",
            "Length of English vocab: 6400\n"
          ],
          "name": "stdout"
        }
      ]
    },
    {
      "cell_type": "markdown",
      "metadata": {
        "id": "wB33hYgXAatb"
      },
      "source": [
        "### Changing the dataset to have tokens"
      ]
    },
    {
      "cell_type": "code",
      "metadata": {
        "id": "85pgie6eI0n6"
      },
      "source": [
        "import torch"
      ],
      "execution_count": 31,
      "outputs": []
    },
    {
      "cell_type": "code",
      "metadata": {
        "id": "6QiR_mu7IC1l"
      },
      "source": [
        "def data_process(data, src_tokenizer, tar_tokenizer, src_vocab, tar_vocab):\r\n",
        "  raw_src_iter = iter(data['marathi'])\r\n",
        "  raw_tar_iter = iter(data['english'])\r\n",
        "\r\n",
        "  data = []\r\n",
        "\r\n",
        "  for (raw_src, raw_tar) in zip(raw_src_iter,raw_tar_iter):\r\n",
        "    src_tensor = torch.tensor([src_vocab.stoi[tok] for tok in src_tokenizer(raw_src)], dtype=torch.long)\r\n",
        "    tar_tensor = torch.tensor([tar_vocab.stoi[tok] for tok in tar_tokenizer(raw_tar)], dtype=torch.long)\r\n",
        "\r\n",
        "    data.append((src_tensor,tar_tensor))\r\n",
        "\r\n",
        "  return data"
      ],
      "execution_count": 32,
      "outputs": []
    },
    {
      "cell_type": "code",
      "metadata": {
        "id": "u9_SDBaaJjvx"
      },
      "source": [
        "dataset = data_process(data, tokenize_mar, tokenize_eng, mar_vocab, eng_vocab)"
      ],
      "execution_count": 33,
      "outputs": []
    },
    {
      "cell_type": "markdown",
      "metadata": {
        "id": "8KYl2hSoJ32p"
      },
      "source": [
        "### DataLoaders"
      ]
    },
    {
      "cell_type": "code",
      "metadata": {
        "id": "_SP46HnCPUfL"
      },
      "source": [
        "from torch.nn.utils.rnn import pad_sequence\r\n",
        "from torch.utils.data import DataLoader"
      ],
      "execution_count": 34,
      "outputs": []
    },
    {
      "cell_type": "code",
      "metadata": {
        "colab": {
          "base_uri": "https://localhost:8080/",
          "height": 35
        },
        "id": "oJc34wNLOgKQ",
        "outputId": "02699fcb-465b-42d1-c6dd-301fbf4a2c27"
      },
      "source": [
        "hype.DEVICE = \"cuda\" if torch.cuda.is_available() else \"cpu\"\r\n",
        "hype.DEVICE"
      ],
      "execution_count": 76,
      "outputs": [
        {
          "output_type": "execute_result",
          "data": {
            "application/vnd.google.colaboratory.intrinsic+json": {
              "type": "string"
            },
            "text/plain": [
              "'cuda'"
            ]
          },
          "metadata": {
            "tags": []
          },
          "execution_count": 76
        }
      ]
    },
    {
      "cell_type": "code",
      "metadata": {
        "colab": {
          "base_uri": "https://localhost:8080/"
        },
        "id": "GW0CDpopO3c2",
        "outputId": "dddf0717-4190-492c-fc4c-bd329bc6bb2f"
      },
      "source": [
        "PAD_IDX = mar_vocab.stoi[\"<pad>\"]\r\n",
        "SOS_IDX = mar_vocab.stoi[\"<sos>\"]\r\n",
        "EOS_IDX = mar_vocab.stoi[\"<eos>\"]\r\n",
        "\r\n",
        "print(f\"pad index: {PAD_IDX}\")\r\n",
        "print(f\"sos index: {SOS_IDX}\")\r\n",
        "print(f\"eos index: {EOS_IDX}\")"
      ],
      "execution_count": 39,
      "outputs": [
        {
          "output_type": "stream",
          "text": [
            "pad index: 1\n",
            "sos index: 2\n",
            "eos index: 3\n"
          ],
          "name": "stdout"
        }
      ]
    },
    {
      "cell_type": "code",
      "metadata": {
        "id": "VBmP0A76PS2A"
      },
      "source": [
        "def batch_proc(data_batch):\r\n",
        "  src_batch = []\r\n",
        "  tar_batch = []\r\n",
        "  \r\n",
        "  for (src_item, tar_item) in data_batch:\r\n",
        "    src_batch.append(torch.cat([torch.tensor([SOS_IDX]), src_item , torch.tensor([EOS_IDX])], dim=0))\r\n",
        "    tar_batch.append(torch.cat([torch.tensor([SOS_IDX]), tar_item , torch.tensor([EOS_IDX])], dim=0))\r\n",
        "  \r\n",
        "  src_batch = pad_sequence(src_batch, padding_value= PAD_IDX)\r\n",
        "  tar_batch = pad_sequence(tar_batch, padding_value= PAD_IDX)\r\n",
        "\r\n",
        "  return src_batch, tar_batch"
      ],
      "execution_count": 40,
      "outputs": []
    },
    {
      "cell_type": "code",
      "metadata": {
        "id": "ONdBjn6-V_oo"
      },
      "source": [
        "train_iter = DataLoader(dataset, batch_size= hype.BATCH_SIZE , shuffle=True, collate_fn= batch_proc)"
      ],
      "execution_count": 41,
      "outputs": []
    },
    {
      "cell_type": "code",
      "metadata": {
        "id": "EjsfaWVfCy1m"
      },
      "source": [
        "# a = next(iter(train_iter))\r\n",
        "# print(a)"
      ],
      "execution_count": 42,
      "outputs": []
    },
    {
      "cell_type": "markdown",
      "metadata": {
        "id": "ajP6GIFXORYE"
      },
      "source": [
        "## Modelling"
      ]
    },
    {
      "cell_type": "code",
      "metadata": {
        "id": "CfpEN8iIdgZM"
      },
      "source": [
        "import random\r\n",
        "from typing import Tuple\r\n",
        "\r\n",
        "import torch.nn as nn\r\n",
        "import torch.optim as optim\r\n",
        "import torch.nn.functional as F\r\n",
        "from torch import Tensor"
      ],
      "execution_count": 43,
      "outputs": []
    },
    {
      "cell_type": "code",
      "metadata": {
        "id": "loyr0GQSOUA7"
      },
      "source": [
        "class Encoder(nn.Module):\r\n",
        "  '''\r\n",
        "      Encoder for the Sequence to sequence model\r\n",
        "  '''\r\n",
        "  def __init__(self, input_dim: int, emb_dim: int, encoder_hid_dim: int, decoder_hid_dim: int, dropout_p: float):\r\n",
        "    super().__init__()\r\n",
        "\r\n",
        "    self.input_dim = input_dim\r\n",
        "    self.emb_dim = emb_dim\r\n",
        "    self.enc_hid_dim = encoder_hid_dim\r\n",
        "    self.dec_hid_dim = decoder_hid_dim\r\n",
        "    self.dropout_p = dropout_p\r\n",
        "\r\n",
        "\r\n",
        "    self.embedding = nn.Embedding(input_dim, emb_dim)\r\n",
        "    self.rnn = nn.GRU(emb_dim, encoder_hid_dim, bidirectional= True)\r\n",
        "    self.fc = nn.Linear(2*encoder_hid_dim, decoder_hid_dim)\r\n",
        "    self.dropout = nn.Dropout(dropout_p)\r\n",
        "\r\n",
        "\r\n",
        "  def forward(self, src: Tensor) -> Tuple[Tensor]:\r\n",
        "    \r\n",
        "    embedded = self.dropout(self.embedding(src))\r\n",
        "\r\n",
        "    outputs, hidden = self.rnn(embedded)\r\n",
        "\r\n",
        "    hidden = torch.tanh( self.fc( torch.cat( [ hidden[-2,:,:] , hidden[-1,:,:] ], dim=1) ) )\r\n",
        "\r\n",
        "    return outputs, hidden"
      ],
      "execution_count": 44,
      "outputs": []
    },
    {
      "cell_type": "code",
      "metadata": {
        "id": "4EAgvX7Kf3Zy"
      },
      "source": [
        "class Attention(nn.Module):\r\n",
        "\r\n",
        "  def __init__(self, enc_hid_dim: int, dec_hid_dim: int, attention_dim: int):\r\n",
        "    super().__init__()\r\n",
        "\r\n",
        "    self.enc_hid_dim = enc_hid_dim\r\n",
        "    self.dec_hid_dim = dec_hid_dim\r\n",
        "\r\n",
        "    self.attn_in = 2*enc_hid_dim + dec_hid_dim\r\n",
        "\r\n",
        "    self.attn = nn.Linear(self.attn_in, attention_dim)\r\n",
        "\r\n",
        "\r\n",
        "  def forward(self, decoder_hidden: Tensor, encoder_outputs: Tensor) -> Tensor:\r\n",
        "\r\n",
        "    src_len = encoder_outputs.shape[0]\r\n",
        "\r\n",
        "    repeated_dec_hid = decoder_hidden.unsqueeze(1).repeat(1, src_len, 1)\r\n",
        "\r\n",
        "    encoder_outputs = encoder_outputs.permute(1,0,2)\r\n",
        "\r\n",
        "    energy = torch.tanh(self.attn(torch.cat((repeated_dec_hid,encoder_outputs), dim=2)))\r\n",
        "\r\n",
        "    attention = torch.sum(energy, dim=2)\r\n",
        "\r\n",
        "    return F.softmax(attention, dim=1)"
      ],
      "execution_count": 45,
      "outputs": []
    },
    {
      "cell_type": "code",
      "metadata": {
        "id": "Z_LVPqBPg_lY"
      },
      "source": [
        "class Decoder(nn.Module):\r\n",
        "\r\n",
        "  def __init__(self, output_dim: int, emb_dim: int, enc_hid_dim: int, dec_hid_dim: int, dropout_p: float, attention: nn.Module ):\r\n",
        "    super().__init__()\r\n",
        "\r\n",
        "    self.output_dim = output_dim\r\n",
        "    self.emb_dim = emb_dim\r\n",
        "    self.enc_hid_dim = enc_hid_dim\r\n",
        "    self.dec_hid_dim = dec_hid_dim\r\n",
        "    self.dropout_p = dropout_p\r\n",
        "    self.attention = attention\r\n",
        "\r\n",
        "\r\n",
        "    self.embedding = nn.Embedding(output_dim, emb_dim)\r\n",
        "    self.rnn = nn.GRU( enc_hid_dim*2 +  emb_dim, dec_hid_dim)\r\n",
        "    self.out = nn.Linear(self.attention.attn_in + emb_dim, output_dim)\r\n",
        "    self.dropout = nn.Dropout(self.dropout_p)\r\n",
        "    \r\n",
        "  def _weighted_encoder_rep(self, decoder_hidden: Tensor, encoder_outputs: Tensor) -> Tensor:\r\n",
        "\r\n",
        "    a = self.attention(decoder_hidden, encoder_outputs)\r\n",
        "\r\n",
        "    a = a.unsqueeze(1)\r\n",
        "\r\n",
        "    encoder_outputs = encoder_outputs.permute(1, 0, 2)\r\n",
        "\r\n",
        "    weighted_encoder_rep = torch.bmm(a, encoder_outputs)\r\n",
        "\r\n",
        "    weighted_encoder_rep = weighted_encoder_rep.permute(1, 0, 2)\r\n",
        "\r\n",
        "    return weighted_encoder_rep\r\n",
        "\r\n",
        "  def forward(self, input: Tensor, decoder_hidden: Tensor, encoder_outputs: Tensor) -> Tuple[Tensor]:\r\n",
        "\r\n",
        "    input = input.unsqueeze(0)\r\n",
        "\r\n",
        "    embedded = self.dropout(self.embedding(input))\r\n",
        "\r\n",
        "    weighted_encoder_rep = self._weighted_encoder_rep(decoder_hidden, encoder_outputs)\r\n",
        "\r\n",
        "    rnn_input = torch.cat((embedded, weighted_encoder_rep), dim = 2)\r\n",
        "\r\n",
        "    output, decoder_hidden = self.rnn(rnn_input, decoder_hidden.unsqueeze(0))\r\n",
        "\r\n",
        "    embedded = embedded.squeeze(0)\r\n",
        "    output = output.squeeze(0)\r\n",
        "    weighted_encoder_rep = weighted_encoder_rep.squeeze(0)\r\n",
        "\r\n",
        "    output = self.out(torch.cat((output, weighted_encoder_rep, embedded), dim = 1))\r\n",
        "\r\n",
        "    return output, decoder_hidden.squeeze(0)"
      ],
      "execution_count": 46,
      "outputs": []
    },
    {
      "cell_type": "code",
      "metadata": {
        "id": "dTCCvVme3Rba"
      },
      "source": [
        "class Seq2Seq(nn.Module):\r\n",
        "  def __init__(self, encoder: nn.Module, decoder: nn.Module, device: torch.device):\r\n",
        "      super().__init__()\r\n",
        "\r\n",
        "      self.encoder = encoder\r\n",
        "      self.decoder = decoder\r\n",
        "      self.device = device\r\n",
        "\r\n",
        "  def forward(self, src: Tensor, trg: Tensor, teacher_forcing_ratio: float = 0.5) -> Tensor:\r\n",
        "\r\n",
        "      batch_size = src.shape[1]\r\n",
        "      max_len = trg.shape[0]\r\n",
        "      trg_vocab_size = self.decoder.output_dim\r\n",
        "\r\n",
        "      outputs = torch.zeros(max_len, batch_size, trg_vocab_size).to(self.device)\r\n",
        "\r\n",
        "      encoder_outputs, hidden = self.encoder(src)\r\n",
        "\r\n",
        "      # first input to the decoder is the <sos> token\r\n",
        "      output = trg[0,:]\r\n",
        "\r\n",
        "      for t in range(1, max_len):\r\n",
        "        output, hidden = self.decoder(output, hidden, encoder_outputs)\r\n",
        "        outputs[t] = output\r\n",
        "        teacher_force = random.random() < teacher_forcing_ratio\r\n",
        "        top1 = output.max(1)[1]\r\n",
        "        output = (trg[t] if teacher_force else top1)\r\n",
        "\r\n",
        "      return outputs"
      ],
      "execution_count": 47,
      "outputs": []
    },
    {
      "cell_type": "markdown",
      "metadata": {
        "id": "-DQKSr8a3mq9"
      },
      "source": [
        "## Training"
      ]
    },
    {
      "cell_type": "code",
      "metadata": {
        "id": "dZe3CSK59eqL"
      },
      "source": [
        "import tqdm\r\n",
        "from tqdm import notebook\r\n",
        "\r\n",
        "import time"
      ],
      "execution_count": 48,
      "outputs": []
    },
    {
      "cell_type": "code",
      "metadata": {
        "id": "-i-heIfr3qkJ"
      },
      "source": [
        "model_hype = Namespace(\r\n",
        "    INPUT_DIM = len(mar_vocab),\r\n",
        "    OUTPUT_DIM = len(eng_vocab),\r\n",
        "    ENC_EMB_DIM = 32,\r\n",
        "    DEC_EMB_DIM = 32,\r\n",
        "    ENC_HID_DIM = 64,\r\n",
        "    DEC_HID_DIM = 64,\r\n",
        "    ATTN_DIM = 8,\r\n",
        "    ENC_DROPOUT = 0.5,\r\n",
        "    DEC_DROPOUT = 0.5,\r\n",
        ")"
      ],
      "execution_count": 49,
      "outputs": []
    },
    {
      "cell_type": "code",
      "metadata": {
        "id": "_Eltcn6N4Rbd"
      },
      "source": [
        "# creating the final model object\r\n",
        "enc = Encoder(model_hype.INPUT_DIM, model_hype.ENC_EMB_DIM, model_hype.ENC_HID_DIM, model_hype.DEC_HID_DIM, model_hype.ENC_DROPOUT)\r\n",
        "attn = Attention(model_hype.ENC_HID_DIM, model_hype.DEC_HID_DIM, model_hype.ATTN_DIM)\r\n",
        "dec = Decoder(model_hype.OUTPUT_DIM, model_hype.DEC_EMB_DIM, model_hype.ENC_HID_DIM, model_hype.DEC_HID_DIM, model_hype.DEC_DROPOUT, attn)\r\n",
        "model = Seq2Seq(enc, dec, hype.DEVICE).to(hype.DEVICE)"
      ],
      "execution_count": 50,
      "outputs": []
    },
    {
      "cell_type": "code",
      "metadata": {
        "colab": {
          "base_uri": "https://localhost:8080/"
        },
        "id": "jQ-goHav4ll5",
        "outputId": "25f2ca79-e356-4f4c-c48e-ace777e8797c"
      },
      "source": [
        "def init_model(model: nn.Module):\r\n",
        "  for name, param in model.named_parameters():\r\n",
        "    if 'weight' in name:\r\n",
        "      nn.init.normal_(param.data, mean=0., std = 0.01)\r\n",
        "    else:\r\n",
        "      nn.init.constant_(param.data, 0.)\r\n",
        "\r\n",
        "model.apply(init_model)"
      ],
      "execution_count": 51,
      "outputs": [
        {
          "output_type": "execute_result",
          "data": {
            "text/plain": [
              "Seq2Seq(\n",
              "  (encoder): Encoder(\n",
              "    (embedding): Embedding(10004, 32)\n",
              "    (rnn): GRU(32, 64, bidirectional=True)\n",
              "    (fc): Linear(in_features=128, out_features=64, bias=True)\n",
              "    (dropout): Dropout(p=0.5, inplace=False)\n",
              "  )\n",
              "  (decoder): Decoder(\n",
              "    (attention): Attention(\n",
              "      (attn): Linear(in_features=192, out_features=8, bias=True)\n",
              "    )\n",
              "    (embedding): Embedding(6400, 32)\n",
              "    (rnn): GRU(160, 64)\n",
              "    (out): Linear(in_features=224, out_features=6400, bias=True)\n",
              "    (dropout): Dropout(p=0.5, inplace=False)\n",
              "  )\n",
              ")"
            ]
          },
          "metadata": {
            "tags": []
          },
          "execution_count": 51
        }
      ]
    },
    {
      "cell_type": "code",
      "metadata": {
        "colab": {
          "base_uri": "https://localhost:8080/"
        },
        "id": "SzDB7jGZ5Bug",
        "outputId": "23794f7d-8807-4348-cf5b-bfc743725559"
      },
      "source": [
        "def count_params (model: nn.Module):\r\n",
        "  return sum(p.numel() for p in model.parameters() if p.requires_grad)\r\n",
        "\r\n",
        "print(f\"There are {count_params(model):,} parameters in the model.\")"
      ],
      "execution_count": 52,
      "outputs": [
        {
          "output_type": "stream",
          "text": [
            "There are 2,055,752 parameters in the model.\n"
          ],
          "name": "stdout"
        }
      ]
    },
    {
      "cell_type": "code",
      "metadata": {
        "id": "wPbcN95I6aKv"
      },
      "source": [
        "optimizer = optim.Adam(model.parameters(), lr= hype.LR)\r\n",
        "\r\n",
        "tar_PAD_IDX = eng_vocab.stoi['<pad>']\r\n",
        "criterion = nn.CrossEntropyLoss(ignore_index=tar_PAD_IDX)"
      ],
      "execution_count": 56,
      "outputs": []
    },
    {
      "cell_type": "code",
      "metadata": {
        "id": "aPu8mg-4UVhX"
      },
      "source": [
        "#build scheduler for plateu of the loss rate\r\n",
        "scheduler = optim.lr_scheduler.ReduceLROnPlateau(optimizer,factor = 0.1, patience=10, threshold=0.001, min_lr= 10e-7, verbose= True)"
      ],
      "execution_count": 57,
      "outputs": []
    },
    {
      "cell_type": "code",
      "metadata": {
        "id": "-T_DC5VA7BjV"
      },
      "source": [
        "def train(model: nn.Module, iterator: torch.utils.data.DataLoader, optimizer: optim.Optimizer, criteria: nn.Module , clip: float, device: str):\r\n",
        "  model.train()\r\n",
        "\r\n",
        "  epoch_loss = 0\r\n",
        "\r\n",
        "  for _, (src,tar) in enumerate(iterator):\r\n",
        "    src, tar = src.to(device), tar.to(device)\r\n",
        "\r\n",
        "    optimizer.zero_grad()\r\n",
        "\r\n",
        "    output = model(src, tar)\r\n",
        "\r\n",
        "    output = output[1:].view(-1, output.shape[-1])\r\n",
        "    tar = tar[1:].view(-1)\r\n",
        "\r\n",
        "    loss = criteria(output, tar)\r\n",
        "\r\n",
        "    loss.backward()\r\n",
        "\r\n",
        "    torch.nn.utils.clip_grad_norm_(model.parameters(), clip)\r\n",
        "\r\n",
        "    optimizer.step()\r\n",
        "\r\n",
        "    epoch_loss += loss.item()\r\n",
        "  \r\n",
        "  return epoch_loss/len(iterator)"
      ],
      "execution_count": 58,
      "outputs": []
    },
    {
      "cell_type": "code",
      "metadata": {
        "colab": {
          "base_uri": "https://localhost:8080/"
        },
        "id": "gndqZe6cUOCT",
        "outputId": "93081d9c-460a-4393-f90b-d053affb45a9"
      },
      "source": [
        "vars(checkpoint)"
      ],
      "execution_count": 65,
      "outputs": [
        {
          "output_type": "execute_result",
          "data": {
            "text/plain": [
              "{'epoch_num': 10,\n",
              " 'losses': [8.354842643379044,\n",
              "  8.141652720101575,\n",
              "  8.421351011270266,\n",
              "  8.500384344202597,\n",
              "  8.853072188864681,\n",
              "  8.877278860086184,\n",
              "  8.913469870636082,\n",
              "  8.931565812388932,\n",
              "  9.070589156733785,\n",
              "  9.154631146816625],\n",
              " 'model_params': OrderedDict([('encoder.embedding.weight',\n",
              "               tensor([[ -4.5848,  -8.4382,  -7.7660,  ...,  -7.6667,   0.5591,   1.1831],\n",
              "                       [  1.2809,  -1.8384,  -0.8366,  ...,  -0.6078,   2.6468, -10.0680],\n",
              "                       [ -1.9785,   0.1916,  -0.4238,  ...,  -0.3030,  -0.6810,  -1.7244],\n",
              "                       ...,\n",
              "                       [ -0.1681,   0.7165,  -3.9099,  ...,  -1.7873,  -4.8142,   0.4555],\n",
              "                       [ -3.3574,   0.4955,  -5.3773,  ...,   4.1953,  -0.1265,  -2.1096],\n",
              "                       [ -1.8971,   2.0401,  -2.5974,  ...,   3.3627,   0.9232,   3.7120]],\n",
              "                      device='cuda:0')),\n",
              "              ('encoder.rnn.weight_ih_l0',\n",
              "               tensor([[-2.0025,  2.8949,  3.7047,  ..., -8.8028,  7.6175,  3.5650],\n",
              "                       [-3.1873, -4.1243,  5.7634,  ...,  2.3817, -0.5090,  9.5030],\n",
              "                       [-5.4186, -4.7367,  0.4343,  ...,  4.6894,  8.4044, -0.8838],\n",
              "                       ...,\n",
              "                       [ 1.2059,  0.6488, -5.3996,  ..., -1.8883,  5.2650, -2.4095],\n",
              "                       [ 3.8181,  1.5168, -1.0316,  ...,  0.1089, 10.2655,  9.4256],\n",
              "                       [-4.3769,  8.8861,  4.2606,  ...,  3.2558, -2.1627, -6.2595]],\n",
              "                      device='cuda:0')),\n",
              "              ('encoder.rnn.weight_hh_l0',\n",
              "               tensor([[-0.9337, -1.4751, -5.1719,  ..., -2.3898,  2.1880, -3.0936],\n",
              "                       [-4.8428, -1.2041,  5.6055,  ..., -1.9105, -3.2307,  6.3701],\n",
              "                       [ 2.5213,  0.5743, -9.8817,  ..., -2.0406,  4.1153, -0.6312],\n",
              "                       ...,\n",
              "                       [-3.9837,  0.5817, -1.2948,  ..., -0.0892,  1.2384, -4.4517],\n",
              "                       [ 0.6095,  3.9333,  1.2031,  ..., -0.7092, -2.5119,  3.0425],\n",
              "                       [ 3.5034,  0.7085, -8.2060,  ..., -6.0234,  1.5598, -9.6426]],\n",
              "                      device='cuda:0')),\n",
              "              ('encoder.rnn.bias_ih_l0',\n",
              "               tensor([  2.7432,   3.8466,   1.6975,  -0.3647,   3.4174,   1.8570,   3.8244,\n",
              "                         3.6064,   1.8339,  -5.2591,   5.4793,  -0.1543,  -2.8055,   1.1443,\n",
              "                         3.0281,   3.7677,  -7.0908,   5.0165,  -6.2160,   2.2930,  -6.3666,\n",
              "                        -0.6089,   1.3104,  -1.9315,   1.4214,  -1.2061,   0.9595,  -2.3049,\n",
              "                         3.2661,   8.4602,  -0.1199,   0.7782,   9.8175,  -1.4817,   5.2971,\n",
              "                        -5.8711,  -1.1202,   6.1851,  -1.4044,   4.9684,  -3.3543,   7.4289,\n",
              "                        -2.2700,   0.0585,   2.7896,  -0.6253,   3.4541,   1.4381, -10.1733,\n",
              "                        -0.3932,  -0.7877,   3.0239,   5.9642,  -0.5659,   4.3993,  -1.4737,\n",
              "                        -1.5630,  -1.5898,  -1.9941,   0.1386,   0.5055,  -2.0009,   0.0790,\n",
              "                        -1.4082,  16.7709,   6.3257,  10.0878,  17.2839,   8.9127,  15.3569,\n",
              "                        11.8468,  20.6179,   4.8132,  12.9077,   9.0074,  13.8592,   6.8532,\n",
              "                        11.1355,   7.2205,  13.1653,   5.7471,  15.7864,  16.7535,  15.5384,\n",
              "                        13.7900,  13.3806,  11.2438,  16.3324,  10.0161,  14.7142,   4.1419,\n",
              "                         9.3592,   8.8405,  20.1383,   8.6795,  11.5642,   8.9303,  13.5706,\n",
              "                        10.3983,  11.1974,  10.6299,   6.4598,   5.9735,   9.9888,  10.7077,\n",
              "                        19.9012,  12.7858,  15.5491,  12.0039,  15.3314,  12.7145,  10.9952,\n",
              "                         3.8879,  15.4297,   8.9785,  15.3666,   5.5230,  10.0943,  16.0080,\n",
              "                        10.7700,  14.0645,   6.6645,  10.7018,  21.0929,  16.9614,  12.0440,\n",
              "                        18.8695,   2.7378,  -3.8511,   9.5493,   0.4729,  15.0426,  -1.2575,\n",
              "                        -4.3460,  12.2723,   7.3650,  10.9569,   8.3241,  -6.8917,   9.5467,\n",
              "                        -0.1175,  -3.1276,   4.5851,  -8.3325,  -0.2772,  13.5713,   9.9728,\n",
              "                         4.9029,  -9.5599, -12.5141,   4.9274,  -1.1942,  13.1553,  -9.3870,\n",
              "                         9.4936,  -1.4556,  -0.7280,  -3.1659,  12.6296,  -8.1953,  -8.8839,\n",
              "                         5.8452,   0.9021,   2.4199,  -6.8844,   0.1685,  -0.7302,  -0.1167,\n",
              "                        -7.5423,  -6.6719,   4.6104,  -7.0525,   4.4655,   6.6013,  -4.9919,\n",
              "                         5.6571,   3.8264,   1.8729,  15.5048,   1.5996,  -5.2470,  -2.2964,\n",
              "                       -11.9021,  -0.8878,   9.3281,  -0.8484,  -3.1434,   0.4528,  -7.1126,\n",
              "                         3.0397,   5.9495,  -3.4986], device='cuda:0')),\n",
              "              ('encoder.rnn.bias_hh_l0',\n",
              "               tensor([ 2.7432e+00,  3.8466e+00,  1.6975e+00, -3.6466e-01,  3.4174e+00,\n",
              "                        1.8570e+00,  3.8244e+00,  3.6064e+00,  1.8339e+00, -5.2591e+00,\n",
              "                        5.4793e+00, -1.5430e-01, -2.8055e+00,  1.1443e+00,  3.0281e+00,\n",
              "                        3.7677e+00, -7.0908e+00,  5.0165e+00, -6.2160e+00,  2.2930e+00,\n",
              "                       -6.3666e+00, -6.0890e-01,  1.3104e+00, -1.9315e+00,  1.4214e+00,\n",
              "                       -1.2061e+00,  9.5949e-01, -2.3049e+00,  3.2661e+00,  8.4602e+00,\n",
              "                       -1.1986e-01,  7.7815e-01,  9.8175e+00, -1.4817e+00,  5.2971e+00,\n",
              "                       -5.8711e+00, -1.1202e+00,  6.1851e+00, -1.4044e+00,  4.9684e+00,\n",
              "                       -3.3543e+00,  7.4289e+00, -2.2700e+00,  5.8514e-02,  2.7896e+00,\n",
              "                       -6.2532e-01,  3.4541e+00,  1.4381e+00, -1.0173e+01, -3.9319e-01,\n",
              "                       -7.8773e-01,  3.0239e+00,  5.9642e+00, -5.6591e-01,  4.3993e+00,\n",
              "                       -1.4737e+00, -1.5630e+00, -1.5898e+00, -1.9941e+00,  1.3859e-01,\n",
              "                        5.0550e-01, -2.0009e+00,  7.8961e-02, -1.4082e+00,  1.6771e+01,\n",
              "                        6.3257e+00,  1.0088e+01,  1.7284e+01,  8.9127e+00,  1.5357e+01,\n",
              "                        1.1847e+01,  2.0618e+01,  4.8132e+00,  1.2908e+01,  9.0074e+00,\n",
              "                        1.3859e+01,  6.8532e+00,  1.1136e+01,  7.2205e+00,  1.3165e+01,\n",
              "                        5.7471e+00,  1.5786e+01,  1.6754e+01,  1.5538e+01,  1.3790e+01,\n",
              "                        1.3381e+01,  1.1244e+01,  1.6332e+01,  1.0016e+01,  1.4714e+01,\n",
              "                        4.1419e+00,  9.3592e+00,  8.8405e+00,  2.0138e+01,  8.6795e+00,\n",
              "                        1.1564e+01,  8.9303e+00,  1.3571e+01,  1.0398e+01,  1.1197e+01,\n",
              "                        1.0630e+01,  6.4598e+00,  5.9735e+00,  9.9888e+00,  1.0708e+01,\n",
              "                        1.9901e+01,  1.2786e+01,  1.5549e+01,  1.2004e+01,  1.5331e+01,\n",
              "                        1.2714e+01,  1.0995e+01,  3.8879e+00,  1.5430e+01,  8.9785e+00,\n",
              "                        1.5367e+01,  5.5230e+00,  1.0094e+01,  1.6008e+01,  1.0770e+01,\n",
              "                        1.4065e+01,  6.6645e+00,  1.0702e+01,  2.1093e+01,  1.6961e+01,\n",
              "                        1.2044e+01,  1.8869e+01,  2.7378e+00, -9.3716e+00,  9.6986e+00,\n",
              "                       -2.6693e+00,  1.1343e+01,  3.1482e-01, -5.6691e+00,  1.2382e+01,\n",
              "                        3.5187e+00,  1.1175e+01, -2.8859e+00, -7.0340e+00,  5.9759e+00,\n",
              "                       -1.2562e+00, -4.8305e+00,  5.1397e+00, -6.9812e+00, -8.8290e-01,\n",
              "                        1.1410e+01,  1.0020e+01,  2.9343e+00, -8.9445e+00, -1.3466e+01,\n",
              "                        7.5098e+00,  8.6765e-01,  1.4407e+01, -8.8903e+00,  9.8790e+00,\n",
              "                       -2.7351e+00, -3.9260e+00, -2.9054e+00,  9.1492e+00, -8.9460e+00,\n",
              "                       -1.0816e+01,  5.2322e+00,  1.9741e+00,  3.2044e+00, -8.7256e+00,\n",
              "                       -4.2616e-01,  5.6644e-02,  1.8460e-01, -3.5375e+00, -9.0296e+00,\n",
              "                        8.6617e+00, -1.0533e+00,  8.4656e+00,  5.2322e+00, -5.2397e+00,\n",
              "                        5.6021e-02,  5.7047e+00,  2.5146e+00,  1.4340e+01,  5.8526e-01,\n",
              "                        5.5959e-01,  1.1422e-02, -8.5154e+00, -2.1047e+00,  4.6899e+00,\n",
              "                       -4.9981e+00, -2.5974e+00,  3.8402e+00, -2.7029e+00,  3.8697e+00,\n",
              "                        3.6160e+00, -2.0982e+00], device='cuda:0')),\n",
              "              ('encoder.rnn.weight_ih_l0_reverse',\n",
              "               tensor([[-0.1467,  1.7316,  0.3528,  ..., -0.2286,  2.1451,  3.7176],\n",
              "                       [ 2.1665,  1.3329, -0.8376,  ...,  0.6455,  0.9520,  1.4804],\n",
              "                       [ 0.1078,  1.4334,  0.8093,  ..., -1.4003,  1.6109, -2.2120],\n",
              "                       ...,\n",
              "                       [-4.2580, -6.6185, -2.6372,  ..., -1.9468,  2.3767,  2.5630],\n",
              "                       [ 5.5107,  2.3413,  3.4601,  ...,  2.5607, -4.4499, -5.8277],\n",
              "                       [ 2.0981,  1.4534, -7.7446,  ...,  2.0046, -1.6575,  5.1643]],\n",
              "                      device='cuda:0')),\n",
              "              ('encoder.rnn.weight_hh_l0_reverse',\n",
              "               tensor([[-0.5312,  0.5503, -1.7143,  ...,  1.2679, -0.5196, -0.5677],\n",
              "                       [ 1.5259, -0.7361, -0.2564,  ..., -1.0249,  1.3876,  1.3669],\n",
              "                       [ 0.1971, -0.1046, -0.6510,  ..., -0.7078,  0.1516, -0.1245],\n",
              "                       ...,\n",
              "                       [-1.0987,  1.0049, -0.0187,  ...,  0.0039, -1.2490, -1.2463],\n",
              "                       [ 1.0416, -1.1021, -0.0888,  ..., -0.1601,  0.9751,  1.1244],\n",
              "                       [ 0.1662, -0.4471, -0.8738,  ...,  1.0082,  0.1342,  0.1258]],\n",
              "                      device='cuda:0')),\n",
              "              ('encoder.rnn.bias_ih_l0_reverse',\n",
              "               tensor([ 7.7018e-01, -5.8616e-01,  1.5518e+00, -5.8475e-01, -7.5166e-01,\n",
              "                        1.9689e+00, -2.1343e-01, -2.7297e-01, -3.6435e-01, -5.1570e-01,\n",
              "                        2.6571e-01, -8.5496e-02, -6.8555e-01,  1.0843e+00, -1.8445e+00,\n",
              "                        5.3096e+00,  6.6837e-01, -1.4110e+00, -4.0519e-01, -2.6132e-01,\n",
              "                       -4.4287e-01, -1.8656e+00,  2.5475e-01, -1.4312e-01, -7.8173e-01,\n",
              "                       -1.3778e+00, -5.1180e-01, -6.7348e-01,  7.5262e-01,  2.2505e-02,\n",
              "                        3.2310e-01, -1.2807e+00, -6.6381e-01, -6.3854e-01, -7.6330e-01,\n",
              "                       -7.6310e-01,  3.6450e+00, -5.8293e-01, -6.5354e-01, -1.3295e+00,\n",
              "                       -1.2278e+00,  1.5514e-01, -5.7125e-01, -1.0915e+00, -9.9219e-01,\n",
              "                        3.7453e+00, -1.3419e-01,  8.3854e-01, -5.9357e-01,  5.4434e-01,\n",
              "                       -5.2038e-01, -8.9033e-01,  1.2466e+00, -9.3299e-01, -7.1386e-01,\n",
              "                        4.6213e+00,  1.5670e+00,  3.2321e-01, -1.5445e-01,  1.5320e+00,\n",
              "                       -3.8360e-01,  2.0903e-01,  9.8277e-01,  7.9340e-01,  2.6489e+01,\n",
              "                        3.3887e+01,  3.4723e+01,  3.8309e+01,  2.2206e+01,  3.9566e+01,\n",
              "                        3.4848e+01,  3.2744e+01,  3.3477e+01,  3.3716e+01,  2.6973e+01,\n",
              "                        2.7175e+01,  3.0310e+01,  3.8355e+01,  3.5947e+01,  3.7741e+01,\n",
              "                        2.7394e+01,  2.9559e+01,  2.5150e+01,  3.2880e+01,  3.7550e+01,\n",
              "                        2.3897e+01,  3.4142e+01,  2.9676e+01,  3.7801e+01,  3.2933e+01,\n",
              "                        2.6808e+01,  4.3028e+01,  3.4091e+01,  3.3569e+01,  3.0654e+01,\n",
              "                        3.3603e+01,  1.7455e+01,  3.0308e+01,  3.3571e+01,  2.9535e+01,\n",
              "                        2.1524e+01,  3.3568e+01,  3.2579e+01,  2.3074e+01,  2.7720e+01,\n",
              "                        2.7147e+01,  3.4495e+01,  1.9315e+01,  2.2178e+01,  5.5403e+00,\n",
              "                        3.0625e+01,  2.5205e+01,  2.8492e+01,  3.7872e+01,  3.0974e+01,\n",
              "                        3.8562e+01,  2.2466e+01,  3.3893e+01,  2.9031e+01,  2.9137e+01,\n",
              "                        2.2530e+01,  3.3474e+01,  2.8107e+01,  3.3068e+01,  3.3439e+01,\n",
              "                        3.5960e+01,  3.2119e+01,  2.8801e+01,  1.9186e+00, -1.7732e+00,\n",
              "                       -1.1174e+00, -1.9486e+00, -4.0778e-01,  3.1227e+00, -2.7553e+00,\n",
              "                       -8.1350e-01,  2.8538e-01,  1.3608e+00,  5.4691e-01, -1.5351e+00,\n",
              "                        3.2417e+00,  3.6672e+00,  2.6416e-01, -2.2961e+00,  1.7424e+00,\n",
              "                        2.1022e+00, -3.0952e-01, -1.8015e+00,  4.2192e+00,  3.9110e-01,\n",
              "                       -8.4744e-02, -2.9111e+00, -3.2562e-01,  7.7719e-01, -7.7906e-01,\n",
              "                       -1.3465e+00, -6.2301e+00, -1.6087e+00, -1.5379e-01,  9.4882e-01,\n",
              "                       -1.3199e+00,  1.2359e+00, -2.0482e+00, -1.8810e+00,  1.9820e+01,\n",
              "                       -1.5910e+00, -9.5695e-01, -2.1242e+00,  1.0133e+00,  8.8324e-01,\n",
              "                       -7.2385e-02, -3.2747e-01,  1.6036e+00,  1.8643e+01, -2.0949e+00,\n",
              "                        7.0224e-01,  4.5705e-01, -4.8223e-01, -5.3845e-02, -1.4019e+00,\n",
              "                        2.6214e-01, -5.7002e-01, -4.9391e-01,  9.1793e-02, -1.1435e+00,\n",
              "                       -4.7695e-01, -1.1687e+00, -1.7846e+00,  2.7772e+00,  3.4618e-01,\n",
              "                        9.7957e-01,  5.2900e-01], device='cuda:0')),\n",
              "              ('encoder.rnn.bias_hh_l0_reverse',\n",
              "               tensor([ 7.7018e-01, -5.8616e-01,  1.5518e+00, -5.8475e-01, -7.5166e-01,\n",
              "                        1.9689e+00, -2.1343e-01, -2.7297e-01, -3.6435e-01, -5.1570e-01,\n",
              "                        2.6571e-01, -8.5496e-02, -6.8555e-01,  1.0843e+00, -1.8445e+00,\n",
              "                        5.3096e+00,  6.6837e-01, -1.4110e+00, -4.0519e-01, -2.6132e-01,\n",
              "                       -4.4287e-01, -1.8656e+00,  2.5475e-01, -1.4312e-01, -7.8173e-01,\n",
              "                       -1.3778e+00, -5.1180e-01, -6.7348e-01,  7.5262e-01,  2.2505e-02,\n",
              "                        3.2310e-01, -1.2807e+00, -6.6381e-01, -6.3854e-01, -7.6330e-01,\n",
              "                       -7.6310e-01,  3.6450e+00, -5.8293e-01, -6.5354e-01, -1.3295e+00,\n",
              "                       -1.2278e+00,  1.5514e-01, -5.7125e-01, -1.0915e+00, -9.9219e-01,\n",
              "                        3.7453e+00, -1.3419e-01,  8.3854e-01, -5.9357e-01,  5.4434e-01,\n",
              "                       -5.2038e-01, -8.9033e-01,  1.2466e+00, -9.3299e-01, -7.1386e-01,\n",
              "                        4.6213e+00,  1.5670e+00,  3.2321e-01, -1.5445e-01,  1.5320e+00,\n",
              "                       -3.8360e-01,  2.0903e-01,  9.8277e-01,  7.9340e-01,  2.6489e+01,\n",
              "                        3.3887e+01,  3.4723e+01,  3.8309e+01,  2.2206e+01,  3.9566e+01,\n",
              "                        3.4848e+01,  3.2744e+01,  3.3477e+01,  3.3716e+01,  2.6973e+01,\n",
              "                        2.7175e+01,  3.0310e+01,  3.8355e+01,  3.5947e+01,  3.7741e+01,\n",
              "                        2.7394e+01,  2.9559e+01,  2.5150e+01,  3.2880e+01,  3.7550e+01,\n",
              "                        2.3897e+01,  3.4142e+01,  2.9676e+01,  3.7801e+01,  3.2933e+01,\n",
              "                        2.6808e+01,  4.3028e+01,  3.4091e+01,  3.3569e+01,  3.0654e+01,\n",
              "                        3.3603e+01,  1.7455e+01,  3.0308e+01,  3.3571e+01,  2.9535e+01,\n",
              "                        2.1524e+01,  3.3568e+01,  3.2579e+01,  2.3074e+01,  2.7720e+01,\n",
              "                        2.7147e+01,  3.4495e+01,  1.9315e+01,  2.2178e+01,  5.5403e+00,\n",
              "                        3.0625e+01,  2.5205e+01,  2.8492e+01,  3.7872e+01,  3.0974e+01,\n",
              "                        3.8562e+01,  2.2466e+01,  3.3893e+01,  2.9031e+01,  2.9137e+01,\n",
              "                        2.2530e+01,  3.3474e+01,  2.8107e+01,  3.3068e+01,  3.3439e+01,\n",
              "                        3.5960e+01,  3.2119e+01,  2.8801e+01,  3.9971e-01, -1.5898e+00,\n",
              "                       -3.0918e+00, -7.7856e-01, -4.7438e-01,  3.1444e+00, -4.3388e-01,\n",
              "                       -3.9841e-01, -6.9997e-01,  2.6185e+00,  5.7840e-01, -9.5879e-01,\n",
              "                        2.7031e+00,  1.5798e+00, -4.8893e-01, -2.1437e+00,  1.5527e+00,\n",
              "                        6.6115e-01, -2.8580e-01, -1.1164e+00,  4.3201e+00,  4.6026e-01,\n",
              "                       -8.8637e-01, -3.1573e+00,  1.8840e+00,  2.6680e-01, -9.6681e-01,\n",
              "                       -3.2900e-01, -3.4574e-01, -1.0162e+00,  1.0092e-01,  1.8090e+00,\n",
              "                       -1.0799e+00,  1.3297e+00, -1.3258e+00, -9.8138e-01,  1.3196e+01,\n",
              "                       -1.9876e+00, -1.6709e+00, -3.2919e+00,  2.7314e-01,  3.3925e-01,\n",
              "                       -1.8190e-02, -5.5126e-02,  7.2327e-01,  2.5848e+01, -3.3749e-01,\n",
              "                        8.7819e-01, -2.8925e-01, -1.8850e+00, -8.0087e-01, -2.3328e+00,\n",
              "                       -4.6239e-01, -7.3973e-01,  1.3605e-01,  4.7475e-01, -1.2963e+00,\n",
              "                       -1.4068e+00, -5.0582e-01, -9.6395e-01,  4.0347e+00, -5.9493e-01,\n",
              "                        7.0319e-01,  1.9918e-01], device='cuda:0')),\n",
              "              ('encoder.fc.weight',\n",
              "               tensor([[-1.0717e+00, -6.0161e+00, -8.9010e+00,  ..., -1.2677e+00,\n",
              "                        -1.8921e+00, -1.3246e+00],\n",
              "                       [ 6.1649e+00, -3.0863e+00, -3.5112e+00,  ..., -8.4150e-02,\n",
              "                         9.2317e-01,  9.9324e-02],\n",
              "                       [-1.5978e+00,  1.2709e+00,  4.6949e-01,  ...,  8.1738e-01,\n",
              "                        -5.3871e-01,  6.9041e-03],\n",
              "                       ...,\n",
              "                       [-9.1843e-01,  2.1510e+00,  1.6135e+00,  ..., -1.1501e+00,\n",
              "                         5.6489e-01,  5.0713e-01],\n",
              "                       [ 1.7954e+00,  1.1759e+00, -1.4576e+00,  ..., -3.7784e-01,\n",
              "                         7.6326e-01,  9.0637e-01],\n",
              "                       [-6.6225e-01,  1.5121e+00, -3.5925e+00,  ..., -2.1713e+00,\n",
              "                         8.8363e-02,  3.4429e-01]], device='cuda:0')),\n",
              "              ('encoder.fc.bias',\n",
              "               tensor([-4.3558,  1.5549,  4.4007,  2.9025,  0.9860, -5.5275,  6.1299, -1.9584,\n",
              "                       -0.8801,  2.2421,  3.3461,  4.5113,  5.8680, -0.3126, -5.1884,  3.9620,\n",
              "                        5.7045,  7.4286, -6.2013, -5.0820, -5.1349,  3.3980, -2.9107, -3.4619,\n",
              "                       -2.3027, -4.5016, -3.5017, -1.4350,  2.1003,  2.0991, -5.8459, -3.8043,\n",
              "                        3.9327, -2.0856, -5.3595, -2.8034,  0.7400,  2.0364, -2.4985, -1.6579,\n",
              "                        6.3514, -5.2335, -3.6480, -4.1011, -4.0074,  7.9788, -3.4029, -5.2546,\n",
              "                       -4.1882, -3.7871,  3.2612,  2.2709,  4.1131, -7.3138,  3.2580, -2.6821,\n",
              "                        5.3921, -0.9460, -1.3339, -2.9109, -2.9786,  4.1578,  3.3057,  8.0490],\n",
              "                      device='cuda:0')),\n",
              "              ('decoder.attention.attn.weight',\n",
              "               tensor([[ 2.8406,  1.0203,  4.9301,  ..., -0.6836, -0.0261,  0.8008],\n",
              "                       [-0.3603, -0.3012, -0.7258,  ...,  1.9046, -0.6296,  0.3691],\n",
              "                       [-0.7010, -4.6830,  0.7635,  ..., -1.6683, -4.9213, -1.0363],\n",
              "                       ...,\n",
              "                       [-1.2756,  0.1578,  1.0292,  ...,  0.3798, -2.6609,  0.5889],\n",
              "                       [ 0.0409, -0.8825,  1.1275,  ..., -3.8805,  2.4592, -0.1825],\n",
              "                       [-0.7941, -0.0645, -0.1216,  ...,  3.0176, -0.1285,  1.0613]],\n",
              "                      device='cuda:0')),\n",
              "              ('decoder.attention.attn.bias',\n",
              "               tensor([ 4.5359,  0.9057, -0.8434,  2.9495, -2.3779,  0.4601,  1.6821,  1.4467],\n",
              "                      device='cuda:0')),\n",
              "              ('decoder.embedding.weight',\n",
              "               tensor([[ 5.7690e-03, -9.1877e-04,  1.1710e-02,  ...,  3.0119e-03,\n",
              "                         1.8274e-03, -5.3049e-03],\n",
              "                       [-3.5639e-03,  6.2013e-03,  1.4806e-03,  ..., -8.5992e-04,\n",
              "                         8.6224e-03,  7.0101e-03],\n",
              "                       [-9.7145e-03, -1.4480e-01, -1.4666e-01,  ...,  2.0409e-01,\n",
              "                         8.6677e-02, -7.6044e-03],\n",
              "                       ...,\n",
              "                       [-9.6589e-01,  1.8758e+00,  2.8001e+00,  ...,  2.2813e+00,\n",
              "                         3.5096e-01,  1.0539e-01],\n",
              "                       [-5.9406e-01,  1.5780e+00,  3.6756e+00,  ...,  5.2596e+00,\n",
              "                         1.7777e+00,  2.3917e-01],\n",
              "                       [ 3.4769e+00,  1.2504e+00,  4.1258e-01,  ...,  9.0536e-01,\n",
              "                         5.2658e+00,  3.9580e+00]], device='cuda:0')),\n",
              "              ('decoder.rnn.weight_ih_l0',\n",
              "               tensor([[-2.7932e+00,  4.0750e+00,  9.9178e-01,  ..., -3.7078e-01,\n",
              "                        -5.2311e-01, -5.9444e-01],\n",
              "                       [ 1.1625e+00,  2.1783e+00,  2.0070e+00,  ..., -3.3672e+00,\n",
              "                         3.7485e-01,  4.2448e-01],\n",
              "                       [ 1.9924e+00,  4.6809e-01, -2.2429e+00,  ..., -6.0819e-01,\n",
              "                        -8.2045e-01, -7.9371e-01],\n",
              "                       ...,\n",
              "                       [-1.0110e+00,  1.2985e+00, -4.1100e-03,  ..., -6.1313e-01,\n",
              "                        -5.6175e-01, -5.9349e-01],\n",
              "                       [-4.9898e+00,  1.6186e+00, -1.5394e+00,  ...,  4.6208e-01,\n",
              "                         4.1017e-01,  4.7426e-01],\n",
              "                       [-6.3039e-01, -9.8010e-01, -6.2397e-01,  ..., -6.7533e-01,\n",
              "                        -3.6865e-01, -1.2414e+00]], device='cuda:0')),\n",
              "              ('decoder.rnn.weight_hh_l0',\n",
              "               tensor([[-0.9296,  3.3873,  0.2353,  ...,  0.3065, -0.5600,  5.3218],\n",
              "                       [ 1.8979, -3.7835,  0.8521,  ...,  0.9975,  3.3062, -3.1053],\n",
              "                       [-0.3163,  1.8307, -2.7179,  ...,  1.6091, -1.1031,  2.7341],\n",
              "                       ...,\n",
              "                       [-3.3997,  3.0108, -1.5206,  ...,  1.8654, -1.1386,  4.0526],\n",
              "                       [ 0.7091,  1.3399, -1.6065,  ..., -1.9595, -1.9113, -1.3132],\n",
              "                       [-1.5128,  4.1297, -4.4716,  ...,  4.6085, -3.1511,  3.2020]],\n",
              "                      device='cuda:0')),\n",
              "              ('decoder.rnn.bias_ih_l0',\n",
              "               tensor([ -1.3819,   3.4265,  -1.5027,   4.8976,   4.3121,  -1.4782,   0.5068,\n",
              "                         3.8633,  -4.0230,  -0.3024,   2.9276,   2.1959,  -0.7479,   1.2555,\n",
              "                        -3.5895,   1.0471,   3.9994,   0.5367,  -0.7669,  -2.9293,   1.0340,\n",
              "                        -2.7734,   4.2278,  -0.9398,   3.5651,   0.4484,   2.5061,   5.5690,\n",
              "                         0.6834,  -2.5537,   1.6886,   3.0555,   0.5231,   3.0477,  -3.2840,\n",
              "                         3.1097,   5.4840,   2.6566,  -1.7986,  -0.9624,  -0.8448,   0.6287,\n",
              "                         1.2021,   3.0517,  -1.6712,  -1.3956,   1.6644,   1.2837,   3.1254,\n",
              "                        -2.1082,   0.6024,   1.8800,   5.6858,   6.7716,  -3.0427,   0.3970,\n",
              "                         2.9300,   3.1655,  -1.8060,   0.9490,   5.4576,   3.6327,  -1.0967,\n",
              "                         3.3803,  -0.2080,   0.6662,  -5.1628,  -1.3937,  -1.4681,   2.1915,\n",
              "                         5.1946,  -3.9958,  -4.0869,   4.8771,  -2.0714,  -2.6453,   2.3183,\n",
              "                        -4.3731,  -2.2617,   3.4061,   0.9401,   4.1986,   3.7388,   2.6657,\n",
              "                        -1.7106,   2.3399,  -1.7913,   2.1416,   1.2799,   3.8822,  -1.5244,\n",
              "                        -3.9804,  -0.4433,  -3.9471,   1.3772,   0.5365,   1.3506,  -0.9123,\n",
              "                         1.0991,  -1.1658,  -4.0016,  -2.9976,   1.8703,  -6.5915,   3.2384,\n",
              "                         4.2163,   0.0337,  -0.6235,   0.3236,   3.1159,   2.4807,   3.1816,\n",
              "                         1.7791,   3.9308,   1.0475,  -2.8165,   0.2041,  -0.7124,   4.1524,\n",
              "                         4.0120,   0.5112,   1.4617,  -5.3369,   1.4966,  -2.2593,  -2.0968,\n",
              "                         4.3877,  -0.7376,   6.1698,  -0.6744,  12.8240,  -0.9200,  -0.3731,\n",
              "                        -0.3649,   0.6806,   1.0552,  -9.5711,  -0.3362,  -1.0739,   0.3529,\n",
              "                         2.2427,   1.8526,   7.7180,   1.1516,   1.0398,   0.9199,   0.0955,\n",
              "                        -1.6830,   0.3049,   0.3980,   1.1215,   0.0672,   0.1842,  -0.2120,\n",
              "                         1.1280,   0.4685,   1.4961,   6.9152,  -0.6446,   1.5207,  -0.2520,\n",
              "                        -3.5851, -14.4294,  -1.8897,   3.7507,  10.3478,  11.5481,  -5.4080,\n",
              "                         0.0599,   0.6551,  -0.7841,   1.0406,   0.5648,   0.4322,   0.7978,\n",
              "                        -1.5592,   1.1851,   2.1553,   4.9952,  -1.0999,  -3.7746,   3.7353,\n",
              "                        -0.4437,  -1.2778,  -1.7256,  -1.9366, -13.1849,   1.9562,   3.8654,\n",
              "                        -0.5960,   0.2043,  -5.8250], device='cuda:0')),\n",
              "              ('decoder.rnn.bias_hh_l0',\n",
              "               tensor([-1.3819,  3.4265, -1.5027,  4.8976,  4.3121, -1.4782,  0.5068,  3.8633,\n",
              "                       -4.0230, -0.3024,  2.9276,  2.1959, -0.7479,  1.2555, -3.5895,  1.0471,\n",
              "                        3.9994,  0.5367, -0.7669, -2.9293,  1.0340, -2.7734,  4.2278, -0.9398,\n",
              "                        3.5651,  0.4484,  2.5061,  5.5690,  0.6834, -2.5537,  1.6886,  3.0555,\n",
              "                        0.5231,  3.0477, -3.2840,  3.1097,  5.4840,  2.6566, -1.7986, -0.9624,\n",
              "                       -0.8448,  0.6287,  1.2021,  3.0517, -1.6712, -1.3956,  1.6644,  1.2837,\n",
              "                        3.1254, -2.1082,  0.6024,  1.8800,  5.6858,  6.7716, -3.0427,  0.3970,\n",
              "                        2.9300,  3.1655, -1.8060,  0.9490,  5.4576,  3.6327, -1.0967,  3.3803,\n",
              "                       -0.2080,  0.6662, -5.1628, -1.3937, -1.4681,  2.1915,  5.1946, -3.9958,\n",
              "                       -4.0869,  4.8771, -2.0714, -2.6453,  2.3183, -4.3731, -2.2617,  3.4061,\n",
              "                        0.9401,  4.1986,  3.7388,  2.6657, -1.7106,  2.3399, -1.7913,  2.1416,\n",
              "                        1.2799,  3.8822, -1.5244, -3.9804, -0.4433, -3.9471,  1.3772,  0.5365,\n",
              "                        1.3506, -0.9123,  1.0991, -1.1658, -4.0016, -2.9976,  1.8703, -6.5915,\n",
              "                        3.2384,  4.2163,  0.0337, -0.6235,  0.3236,  3.1159,  2.4807,  3.1816,\n",
              "                        1.7791,  3.9308,  1.0475, -2.8165,  0.2041, -0.7124,  4.1524,  4.0120,\n",
              "                        0.5112,  1.4617, -5.3369,  1.4966, -2.2593, -2.0968,  4.3877, -0.7376,\n",
              "                       -0.1713, -1.1135,  0.4837, -0.8547, -0.9448,  0.3566,  0.6384,  1.3422,\n",
              "                        2.1371, -0.3849, -1.4305,  3.9956, -0.3901,  1.9481, -0.4165,  1.5632,\n",
              "                        1.2858,  0.7369,  0.3553,  0.5115,  1.9895,  0.3598,  2.5150,  0.4995,\n",
              "                       -0.2428,  0.0804,  1.7771, -0.1264,  2.2903, -3.0826, -0.6001,  2.2485,\n",
              "                        0.0637,  1.0361, -3.9663, -2.0586,  2.6397, -2.5725,  0.8517,  1.9575,\n",
              "                       -0.4324,  0.5370, -1.1415,  1.1580, -0.7393,  0.3287, -1.3167, -0.5863,\n",
              "                        1.6486,  0.6681,  3.1277, -1.4551, -3.3699,  4.1807, -0.3921, -2.0348,\n",
              "                       -2.6000, -1.1245, -0.7505,  2.1854,  3.6660, -1.2129, -0.2224, -4.0787],\n",
              "                      device='cuda:0')),\n",
              "              ('decoder.out.weight',\n",
              "               tensor([[-0.6341,  0.7163,  1.0061,  ..., -0.4524,  0.1113,  0.3238],\n",
              "                       [-0.6101,  0.6881,  0.9927,  ..., -0.4439,  0.1115,  0.3504],\n",
              "                       [-0.6218,  0.6878,  0.9860,  ..., -0.4441,  0.0973,  0.3351],\n",
              "                       ...,\n",
              "                       [-0.6710,  1.4102,  3.6113,  ...,  2.0152, -0.2008, -1.8233],\n",
              "                       [-2.3712,  2.4449, -0.2463,  ..., -0.4262,  1.9134, -0.4884],\n",
              "                       [-0.9141,  1.5933,  3.2438,  ..., -0.4578,  1.5481,  1.5891]],\n",
              "                      device='cuda:0')),\n",
              "              ('decoder.out.bias',\n",
              "               tensor([-0.7991, -0.8053, -0.8010,  ..., -1.5363, -2.5788, -1.6920],\n",
              "                      device='cuda:0'))]),\n",
              " 'optim_params': {'param_groups': [{'amsgrad': False,\n",
              "    'betas': (0.9, 0.999),\n",
              "    'eps': 1e-08,\n",
              "    'lr': 0.1,\n",
              "    'params': [0,\n",
              "     1,\n",
              "     2,\n",
              "     3,\n",
              "     4,\n",
              "     5,\n",
              "     6,\n",
              "     7,\n",
              "     8,\n",
              "     9,\n",
              "     10,\n",
              "     11,\n",
              "     12,\n",
              "     13,\n",
              "     14,\n",
              "     15,\n",
              "     16,\n",
              "     17,\n",
              "     18,\n",
              "     19],\n",
              "    'weight_decay': 0}],\n",
              "  'state': {0: {'exp_avg': tensor([[ 4.2015e-04,  1.1935e-03, -4.6452e-03,  ...,  3.4875e-03,\n",
              "              7.4855e-04, -1.2018e-04],\n",
              "            [ 7.4948e-05, -6.1604e-04, -7.2149e-04,  ...,  8.7234e-04,\n",
              "             -5.6828e-05, -4.1735e-04],\n",
              "            [-3.0695e-04, -4.5168e-03, -1.1924e-03,  ...,  3.0682e-04,\n",
              "             -1.0316e-03, -2.7346e-03],\n",
              "            ...,\n",
              "            [-5.6052e-45,  3.3914e-07, -2.4882e-37,  ..., -1.1449e-07,\n",
              "              5.4947e-09,  3.1314e-07],\n",
              "            [-1.0229e-18,  5.6052e-45, -1.0505e-15,  ..., -5.8408e-28,\n",
              "             -1.5783e-16,  5.6052e-45],\n",
              "            [-5.1994e-28, -1.2088e-05,  2.1343e-27,  ..., -2.0136e-26,\n",
              "             -7.0060e-27, -5.6052e-45]], device='cuda:0'),\n",
              "    'exp_avg_sq': tensor([[1.9665e-04, 1.0755e-04, 1.3687e-04,  ..., 9.0799e-05, 1.2272e-04,\n",
              "             1.2308e-04],\n",
              "            [4.3612e-04, 4.1122e-04, 5.7256e-04,  ..., 4.3057e-04, 5.1280e-04,\n",
              "             3.3340e-04],\n",
              "            [2.6756e-05, 2.6385e-04, 1.7050e-04,  ..., 9.1113e-05, 1.1099e-04,\n",
              "             1.1207e-04],\n",
              "            ...,\n",
              "            [4.7704e-11, 1.2666e-12, 1.2470e-07,  ..., 1.2452e-09, 2.2813e-09,\n",
              "             1.0660e-11],\n",
              "            [3.7089e-10, 5.7362e-12, 8.6292e-10,  ..., 4.1964e-09, 4.5145e-09,\n",
              "             5.1356e-09],\n",
              "            [2.4693e-10, 7.9195e-10, 1.2625e-11,  ..., 7.4638e-11, 6.5772e-11,\n",
              "             1.8110e-12]], device='cuda:0'),\n",
              "    'step': 3190},\n",
              "   1: {'exp_avg': tensor([[ 5.0806e-05, -2.5337e-07, -1.2669e-05,  ..., -6.4245e-05,\n",
              "             -9.6628e-06,  3.0591e-07],\n",
              "            [-1.5993e-06, -2.4468e-07,  2.0129e-05,  ...,  4.4514e-06,\n",
              "             -3.6562e-06,  1.7505e-07],\n",
              "            [-1.5943e-07, -9.4058e-07, -1.0632e-05,  ..., -8.2043e-06,\n",
              "             -2.4167e-09, -2.5100e-06],\n",
              "            ...,\n",
              "            [-1.8440e-04,  1.0980e-04, -9.2375e-06,  ...,  1.6117e-05,\n",
              "             -2.8908e-05, -3.0429e-04],\n",
              "            [-1.2778e-04, -1.0837e-04,  1.0556e-04,  ...,  3.4839e-07,\n",
              "              7.3364e-06, -1.5290e-05],\n",
              "            [ 4.5482e-04,  4.4021e-04,  2.2568e-05,  ..., -2.2636e-04,\n",
              "              1.3373e-04,  7.0650e-04]], device='cuda:0'),\n",
              "    'exp_avg_sq': tensor([[6.2905e-08, 6.6535e-07, 5.0760e-07,  ..., 8.7951e-07, 1.1110e-07,\n",
              "             5.1603e-07],\n",
              "            [2.0477e-07, 1.8049e-06, 4.7433e-06,  ..., 8.4195e-07, 1.0089e-06,\n",
              "             4.8501e-06],\n",
              "            [4.9466e-08, 4.3486e-08, 2.0202e-07,  ..., 1.6620e-07, 4.2268e-08,\n",
              "             6.7077e-08],\n",
              "            ...,\n",
              "            [1.9817e-05, 3.4672e-05, 4.6940e-05,  ..., 1.5962e-05, 7.5732e-06,\n",
              "             3.0021e-05],\n",
              "            [4.4210e-05, 1.4722e-05, 6.5323e-06,  ..., 6.1617e-06, 3.5290e-06,\n",
              "             7.3487e-06],\n",
              "            [8.3090e-06, 5.4865e-06, 6.1419e-06,  ..., 4.9376e-06, 2.2554e-05,\n",
              "             8.7475e-06]], device='cuda:0'),\n",
              "    'step': 3190},\n",
              "   2: {'exp_avg': tensor([[-1.2029e-07,  1.0180e-08, -5.4924e-06,  ...,  5.6876e-06,\n",
              "             -6.6627e-09, -5.7423e-06],\n",
              "            [ 8.2863e-07,  8.2805e-07, -2.7164e-07,  ..., -2.8116e-07,\n",
              "             -9.8911e-07,  4.0319e-07],\n",
              "            [-1.2908e-06, -7.0699e-07, -1.4528e-07,  ...,  1.2920e-06,\n",
              "              4.4857e-07, -1.6247e-06],\n",
              "            ...,\n",
              "            [-3.3948e-05,  3.1188e-05, -3.2900e-05,  ..., -3.3903e-05,\n",
              "              3.6554e-05,  3.3098e-05],\n",
              "            [ 1.2997e-06, -6.9588e-07,  2.7228e-07,  ..., -1.6977e-06,\n",
              "             -1.3160e-06, -8.7089e-07],\n",
              "            [-8.8814e-06,  2.0694e-05,  2.4192e-05,  ...,  8.3886e-06,\n",
              "              1.0868e-05,  2.3213e-05]], device='cuda:0'),\n",
              "    'exp_avg_sq': tensor([[2.0177e-08, 3.8843e-08, 3.9839e-08,  ..., 3.6553e-08, 3.6921e-08,\n",
              "             5.0030e-08],\n",
              "            [1.3318e-07, 1.3727e-07, 1.3306e-07,  ..., 1.1774e-07, 2.1742e-08,\n",
              "             1.3407e-07],\n",
              "            [3.7608e-09, 4.7257e-09, 4.6016e-09,  ..., 3.1226e-09, 4.2209e-09,\n",
              "             5.8002e-09],\n",
              "            ...,\n",
              "            [9.8069e-08, 6.0651e-08, 7.4933e-08,  ..., 3.4705e-08, 6.6623e-08,\n",
              "             1.1104e-07],\n",
              "            [1.1027e-08, 4.0309e-08, 3.9924e-08,  ..., 4.3363e-08, 1.3274e-08,\n",
              "             4.1186e-08],\n",
              "            [1.3982e-07, 1.5059e-07, 1.4269e-07,  ..., 1.4605e-07, 1.1000e-07,\n",
              "             1.4433e-07]], device='cuda:0'),\n",
              "    'step': 3190},\n",
              "   3: {'exp_avg': tensor([ 5.5045e-06, -2.7948e-06,  7.3023e-07, -4.4926e-07,  1.5103e-07,\n",
              "            -2.4507e-09, -4.1084e-08, -2.8430e-06, -3.9297e-05, -1.0036e-06,\n",
              "            -8.7122e-06, -1.5575e-08, -4.9119e-07, -8.7572e-07, -2.2556e-06,\n",
              "             4.8153e-08,  2.9373e-07, -1.3552e-06,  2.5625e-07,  1.4986e-07,\n",
              "            -1.7308e-08,  1.2810e-07, -8.8839e-09, -2.1071e-08, -1.0840e-07,\n",
              "             9.2602e-08, -1.6761e-05, -3.4368e-07, -8.6858e-09, -5.2178e-06,\n",
              "            -3.4102e-06, -7.4831e-07,  1.0175e-06, -2.5950e-07,  7.4417e-08,\n",
              "             3.6929e-08,  1.3688e-05,  1.7118e-07, -3.4068e-06, -2.4051e-08,\n",
              "             6.5466e-09,  9.4960e-07,  5.6084e-06,  2.1465e-06,  1.7909e-06,\n",
              "             1.7685e-06,  1.9510e-05, -2.4431e-06, -4.8853e-08, -3.0637e-06,\n",
              "            -5.7721e-09, -2.1310e-06, -1.0106e-06,  7.8270e-08, -6.0526e-06,\n",
              "            -5.9646e-08,  1.1624e-07, -1.1896e-05, -4.3789e-08, -5.3862e-07,\n",
              "             1.3077e-09,  2.8217e-06,  7.3773e-06,  7.6448e-05,  1.2086e-04,\n",
              "             2.6014e-05,  4.6595e-05,  2.3217e-05,  2.4917e-04, -1.3391e-04,\n",
              "            -1.0368e-05, -3.3718e-05,  1.4353e-04, -6.9008e-05, -1.4924e-04,\n",
              "             9.3748e-06,  1.9064e-04, -2.1171e-05, -3.0316e-04, -3.6301e-04,\n",
              "             8.9765e-07,  3.5039e-05, -1.0680e-06, -4.6915e-05, -3.8078e-04,\n",
              "            -7.8654e-05,  8.1894e-05,  3.0519e-05, -1.8270e-05,  6.9907e-04,\n",
              "             1.8844e-05, -6.4231e-04,  1.0978e-04, -1.1689e-04,  5.6481e-05,\n",
              "             1.5961e-05,  1.3918e-04, -7.3063e-05, -9.4135e-06,  3.8006e-05,\n",
              "             6.0693e-05,  1.9401e-04,  5.9954e-06,  3.8473e-05, -3.7797e-05,\n",
              "            -5.8718e-05,  2.9624e-05, -1.0376e-05, -5.6439e-05,  6.1259e-06,\n",
              "             1.5890e-04,  3.2252e-05,  9.2691e-05,  1.9474e-04,  8.7804e-05,\n",
              "             2.7538e-05, -1.5993e-04, -4.0331e-05,  1.0314e-05, -1.4734e-04,\n",
              "            -1.2631e-04,  1.4695e-04, -9.6958e-05, -8.8634e-05, -8.8319e-05,\n",
              "             6.3468e-05,  1.0891e-03,  3.5646e-05, -2.0009e-05, -2.6616e-05,\n",
              "             6.7581e-05, -8.1545e-07, -1.6559e-05,  1.2442e-05, -4.0365e-04,\n",
              "             2.0425e-05, -1.5169e-04,  2.4003e-04,  7.2306e-05,  1.4272e-05,\n",
              "             4.4567e-04, -8.0275e-05, -1.5456e-04, -3.0864e-05,  2.5401e-05,\n",
              "            -3.3779e-06,  4.3017e-05, -1.7053e-04,  1.6793e-05,  2.2616e-04,\n",
              "             1.3157e-04,  8.5875e-06,  1.5335e-04,  9.2266e-06,  1.2676e-04,\n",
              "            -5.5328e-05, -4.3101e-05,  7.7477e-05, -1.2172e-04,  1.0727e-05,\n",
              "             8.5375e-05, -2.3799e-04,  8.8114e-06, -3.2400e-04,  6.0936e-05,\n",
              "            -5.7696e-05,  1.6883e-04,  8.2486e-05,  3.1332e-04, -2.7296e-05,\n",
              "            -8.6068e-06, -7.9154e-05,  8.0119e-05, -1.2111e-04,  1.4330e-04,\n",
              "             3.1074e-05,  6.9992e-05,  5.4247e-05,  1.4878e-05, -6.1248e-05,\n",
              "            -1.2079e-04, -6.5279e-05, -6.4917e-05, -6.1188e-05, -1.6084e-04,\n",
              "             2.1450e-04,  1.1251e-04, -1.2461e-06,  1.5445e-05,  8.0682e-06,\n",
              "            -2.2033e-05, -1.1767e-05], device='cuda:0'),\n",
              "    'exp_avg_sq': tensor([6.7217e-08, 1.7102e-07, 9.4966e-09, 4.6495e-08, 7.4304e-08, 1.5816e-07,\n",
              "            9.0039e-09, 1.7272e-08, 3.7437e-08, 4.1180e-09, 1.0219e-07, 9.5817e-08,\n",
              "            5.6380e-09, 1.3966e-07, 6.3297e-08, 3.6186e-08, 2.9057e-08, 1.5100e-08,\n",
              "            8.1130e-09, 3.7113e-08, 9.2482e-09, 1.0948e-07, 1.5862e-07, 5.8110e-08,\n",
              "            1.0274e-07, 1.6272e-08, 3.9833e-08, 6.0552e-09, 2.5049e-08, 9.0693e-08,\n",
              "            1.3662e-07, 7.9449e-08, 5.1031e-07, 6.4733e-09, 1.2393e-08, 1.1022e-08,\n",
              "            1.4062e-07, 8.8399e-08, 1.9954e-08, 9.2225e-08, 2.1651e-08, 8.0850e-08,\n",
              "            2.6383e-08, 1.3292e-08, 4.2178e-08, 5.7103e-08, 1.5406e-08, 8.6425e-08,\n",
              "            2.8213e-08, 2.0854e-08, 2.5741e-08, 8.6005e-09, 2.3212e-08, 1.2348e-07,\n",
              "            5.5597e-08, 3.4426e-08, 2.1574e-08, 1.7459e-07, 2.8798e-08, 4.3757e-09,\n",
              "            3.6560e-08, 4.2871e-08, 1.7807e-08, 5.3345e-08, 6.0836e-07, 3.8138e-07,\n",
              "            3.8208e-07, 1.4171e-06, 4.5850e-07, 7.3943e-07, 9.5719e-07, 2.5566e-07,\n",
              "            7.2914e-07, 5.6832e-07, 3.9681e-07, 9.3328e-07, 6.1320e-07, 3.1858e-07,\n",
              "            5.0601e-07, 7.6486e-07, 2.3502e-07, 1.0327e-06, 9.2635e-07, 5.4079e-07,\n",
              "            1.0804e-06, 8.1970e-07, 4.0028e-07, 3.1202e-07, 4.3996e-07, 8.9384e-07,\n",
              "            8.2649e-07, 8.4955e-07, 2.7705e-07, 1.0262e-06, 1.0130e-06, 6.4493e-07,\n",
              "            1.6217e-06, 7.4357e-07, 4.2298e-07, 5.2970e-07, 6.2737e-07, 5.7498e-07,\n",
              "            4.9875e-07, 5.5353e-07, 5.1527e-07, 7.2044e-07, 5.7424e-07, 8.2012e-07,\n",
              "            3.8918e-07, 7.5702e-07, 5.1417e-07, 4.2849e-07, 3.6144e-07, 5.9382e-07,\n",
              "            6.3417e-07, 5.8532e-07, 7.1252e-07, 6.3366e-07, 9.1508e-07, 5.6570e-07,\n",
              "            6.6386e-07, 6.8765e-07, 5.7979e-07, 4.5288e-07, 9.4705e-07, 6.3434e-07,\n",
              "            6.4864e-07, 3.0307e-07, 1.1373e-06, 1.4463e-06, 5.4710e-07, 9.2665e-07,\n",
              "            8.9394e-07, 1.3020e-06, 1.2269e-06, 6.2385e-07, 1.0797e-06, 1.0289e-06,\n",
              "            6.5794e-07, 1.1646e-06, 1.1484e-06, 9.6778e-07, 7.6297e-07, 8.7323e-07,\n",
              "            1.1343e-06, 1.3430e-06, 8.3824e-07, 1.0917e-06, 9.9018e-07, 1.1731e-06,\n",
              "            9.0602e-07, 1.0027e-06, 1.4356e-06, 1.1014e-06, 1.1344e-06, 6.6351e-07,\n",
              "            1.3693e-06, 9.8755e-07, 9.9518e-07, 1.2794e-06, 1.5411e-06, 1.2445e-06,\n",
              "            5.1395e-07, 1.2088e-06, 1.2974e-06, 9.2619e-07, 1.0469e-06, 1.5280e-06,\n",
              "            8.0664e-07, 1.2819e-06, 8.5500e-07, 1.4277e-06, 6.3233e-07, 6.7202e-07,\n",
              "            9.5898e-07, 7.1983e-07, 6.8088e-07, 1.0755e-06, 1.2431e-06, 9.8909e-07,\n",
              "            9.8316e-07, 1.5488e-06, 9.1269e-07, 8.8917e-07, 1.3327e-06, 1.2923e-06,\n",
              "            1.0739e-06, 9.2397e-07, 1.0056e-06, 9.4193e-07, 7.2471e-07, 6.4707e-07],\n",
              "           device='cuda:0'),\n",
              "    'step': 3190},\n",
              "   4: {'exp_avg': tensor([ 5.5045e-06, -2.7948e-06,  7.3023e-07, -4.4926e-07,  1.5103e-07,\n",
              "            -2.4507e-09, -4.1084e-08, -2.8430e-06, -3.9297e-05, -1.0036e-06,\n",
              "            -8.7122e-06, -1.5575e-08, -4.9119e-07, -8.7572e-07, -2.2556e-06,\n",
              "             4.8153e-08,  2.9373e-07, -1.3552e-06,  2.5625e-07,  1.4986e-07,\n",
              "            -1.7308e-08,  1.2810e-07, -8.8839e-09, -2.1071e-08, -1.0840e-07,\n",
              "             9.2602e-08, -1.6761e-05, -3.4368e-07, -8.6858e-09, -5.2178e-06,\n",
              "            -3.4102e-06, -7.4831e-07,  1.0175e-06, -2.5950e-07,  7.4417e-08,\n",
              "             3.6929e-08,  1.3688e-05,  1.7118e-07, -3.4068e-06, -2.4051e-08,\n",
              "             6.5466e-09,  9.4960e-07,  5.6084e-06,  2.1465e-06,  1.7909e-06,\n",
              "             1.7685e-06,  1.9510e-05, -2.4431e-06, -4.8853e-08, -3.0637e-06,\n",
              "            -5.7721e-09, -2.1310e-06, -1.0106e-06,  7.8270e-08, -6.0526e-06,\n",
              "            -5.9646e-08,  1.1624e-07, -1.1896e-05, -4.3789e-08, -5.3862e-07,\n",
              "             1.3077e-09,  2.8217e-06,  7.3773e-06,  7.6448e-05,  1.2086e-04,\n",
              "             2.6014e-05,  4.6595e-05,  2.3217e-05,  2.4917e-04, -1.3391e-04,\n",
              "            -1.0368e-05, -3.3718e-05,  1.4353e-04, -6.9008e-05, -1.4924e-04,\n",
              "             9.3748e-06,  1.9064e-04, -2.1171e-05, -3.0316e-04, -3.6301e-04,\n",
              "             8.9765e-07,  3.5039e-05, -1.0680e-06, -4.6915e-05, -3.8078e-04,\n",
              "            -7.8654e-05,  8.1894e-05,  3.0519e-05, -1.8270e-05,  6.9907e-04,\n",
              "             1.8844e-05, -6.4231e-04,  1.0978e-04, -1.1689e-04,  5.6481e-05,\n",
              "             1.5961e-05,  1.3918e-04, -7.3063e-05, -9.4135e-06,  3.8006e-05,\n",
              "             6.0693e-05,  1.9401e-04,  5.9954e-06,  3.8473e-05, -3.7797e-05,\n",
              "            -5.8718e-05,  2.9624e-05, -1.0376e-05, -5.6439e-05,  6.1259e-06,\n",
              "             1.5890e-04,  3.2252e-05,  9.2691e-05,  1.9474e-04,  8.7804e-05,\n",
              "             2.7538e-05, -1.5993e-04, -4.0331e-05,  1.0314e-05, -1.4734e-04,\n",
              "            -1.2631e-04,  1.4695e-04, -9.6958e-05, -8.8634e-05, -8.8319e-05,\n",
              "             6.3468e-05,  1.0891e-03,  3.5646e-05,  3.9027e-06, -5.6635e-05,\n",
              "             1.9612e-05, -3.6628e-05, -1.1106e-05,  1.4923e-05,  2.0729e-06,\n",
              "             1.0050e-05, -9.9191e-05,  4.0072e-06,  1.3104e-05, -6.7487e-07,\n",
              "             7.2222e-05, -8.9088e-06, -5.7114e-05, -3.3970e-05,  3.4216e-06,\n",
              "            -3.0110e-06, -3.6543e-06,  3.0893e-08,  6.8193e-06, -1.3804e-05,\n",
              "            -4.8211e-06, -1.3300e-05,  5.1542e-06,  2.2603e-05,  3.5139e-06,\n",
              "            -3.4961e-05,  3.4909e-05,  7.4921e-05, -5.8086e-06, -1.0503e-05,\n",
              "             7.4646e-05, -2.3242e-04,  8.5066e-06, -7.1374e-05,  1.0798e-04,\n",
              "            -3.0250e-05,  1.5044e-04,  4.8780e-05,  2.3856e-06, -4.4384e-05,\n",
              "             5.8848e-05, -4.1880e-05,  3.2856e-05, -1.6495e-04,  1.2973e-04,\n",
              "             2.3691e-05, -3.0785e-06,  6.1567e-05, -1.6497e-05, -4.5105e-05,\n",
              "            -1.1241e-04, -5.7278e-05, -1.3394e-04,  6.3934e-06, -1.8456e-04,\n",
              "             5.1695e-05, -5.7910e-05, -3.0702e-05,  1.9013e-05,  1.6514e-05,\n",
              "            -1.2914e-06, -2.8048e-05], device='cuda:0'),\n",
              "    'exp_avg_sq': tensor([6.7217e-08, 1.7102e-07, 9.4966e-09, 4.6495e-08, 7.4304e-08, 1.5816e-07,\n",
              "            9.0039e-09, 1.7272e-08, 3.7437e-08, 4.1180e-09, 1.0219e-07, 9.5817e-08,\n",
              "            5.6380e-09, 1.3966e-07, 6.3297e-08, 3.6186e-08, 2.9057e-08, 1.5100e-08,\n",
              "            8.1130e-09, 3.7113e-08, 9.2482e-09, 1.0948e-07, 1.5862e-07, 5.8110e-08,\n",
              "            1.0274e-07, 1.6272e-08, 3.9833e-08, 6.0552e-09, 2.5049e-08, 9.0693e-08,\n",
              "            1.3662e-07, 7.9449e-08, 5.1031e-07, 6.4733e-09, 1.2393e-08, 1.1022e-08,\n",
              "            1.4062e-07, 8.8399e-08, 1.9954e-08, 9.2225e-08, 2.1651e-08, 8.0850e-08,\n",
              "            2.6383e-08, 1.3292e-08, 4.2178e-08, 5.7103e-08, 1.5406e-08, 8.6425e-08,\n",
              "            2.8213e-08, 2.0854e-08, 2.5741e-08, 8.6005e-09, 2.3212e-08, 1.2348e-07,\n",
              "            5.5597e-08, 3.4426e-08, 2.1574e-08, 1.7459e-07, 2.8798e-08, 4.3757e-09,\n",
              "            3.6560e-08, 4.2871e-08, 1.7807e-08, 5.3345e-08, 6.0836e-07, 3.8138e-07,\n",
              "            3.8208e-07, 1.4171e-06, 4.5850e-07, 7.3943e-07, 9.5719e-07, 2.5566e-07,\n",
              "            7.2914e-07, 5.6832e-07, 3.9681e-07, 9.3328e-07, 6.1320e-07, 3.1858e-07,\n",
              "            5.0601e-07, 7.6486e-07, 2.3502e-07, 1.0327e-06, 9.2635e-07, 5.4079e-07,\n",
              "            1.0804e-06, 8.1970e-07, 4.0028e-07, 3.1202e-07, 4.3996e-07, 8.9384e-07,\n",
              "            8.2649e-07, 8.4955e-07, 2.7705e-07, 1.0262e-06, 1.0130e-06, 6.4493e-07,\n",
              "            1.6217e-06, 7.4357e-07, 4.2298e-07, 5.2970e-07, 6.2737e-07, 5.7498e-07,\n",
              "            4.9875e-07, 5.5353e-07, 5.1527e-07, 7.2044e-07, 5.7424e-07, 8.2012e-07,\n",
              "            3.8918e-07, 7.5702e-07, 5.1417e-07, 4.2849e-07, 3.6144e-07, 5.9382e-07,\n",
              "            6.3417e-07, 5.8532e-07, 7.1252e-07, 6.3366e-07, 9.1508e-07, 5.6570e-07,\n",
              "            6.6386e-07, 6.8765e-07, 5.7979e-07, 4.5288e-07, 9.4705e-07, 6.3434e-07,\n",
              "            6.4864e-07, 3.0307e-07, 5.5441e-07, 7.0040e-07, 1.9068e-07, 4.5533e-07,\n",
              "            4.4616e-07, 6.5624e-07, 7.6901e-07, 2.9268e-07, 5.2527e-07, 2.2767e-07,\n",
              "            2.9799e-07, 3.0049e-07, 2.3104e-07, 2.8432e-07, 3.0180e-07, 3.3729e-07,\n",
              "            1.7259e-07, 7.2826e-07, 2.2793e-07, 2.1212e-07, 3.7042e-07, 3.5376e-07,\n",
              "            4.2948e-07, 4.4423e-07, 7.5376e-07, 3.6644e-07, 4.4218e-07, 2.5193e-07,\n",
              "            8.6600e-07, 6.1551e-07, 4.0243e-07, 3.8516e-07, 7.4259e-07, 5.1362e-07,\n",
              "            1.6893e-07, 2.1525e-07, 3.4628e-07, 4.1447e-07, 4.8149e-07, 9.3017e-07,\n",
              "            1.7738e-07, 7.4878e-07, 3.6920e-07, 3.9109e-07, 3.3903e-07, 2.0346e-07,\n",
              "            5.5133e-07, 1.9244e-07, 1.4463e-07, 3.6918e-07, 3.3374e-07, 3.9848e-07,\n",
              "            5.2620e-07, 9.3595e-07, 6.3225e-07, 2.3158e-07, 5.8066e-07, 3.9731e-07,\n",
              "            3.9471e-07, 2.6016e-07, 4.1295e-07, 2.5668e-07, 3.4469e-07, 2.4112e-07],\n",
              "           device='cuda:0'),\n",
              "    'step': 3190},\n",
              "   5: {'exp_avg': tensor([[ 5.6052e-45, -5.6052e-45,  4.4594e-36,  ..., -1.4372e-35,\n",
              "             -5.6052e-45,  1.1154e-35],\n",
              "            [-1.9720e-16, -1.0022e-19,  2.0468e-15,  ..., -9.5822e-16,\n",
              "              9.5911e-20, -9.6564e-24],\n",
              "            [ 3.1678e-16, -1.5118e-13,  2.3628e-12,  ...,  4.0269e-11,\n",
              "             -2.2153e-11,  7.8585e-12],\n",
              "            ...,\n",
              "            [ 9.0139e-16,  1.7873e-12, -1.0381e-12,  ..., -8.8877e-13,\n",
              "             -6.0963e-12, -5.7075e-12],\n",
              "            [-7.2111e-17,  2.5074e-14,  8.0350e-17,  ..., -2.0333e-16,\n",
              "              5.6324e-09,  8.6031e-16],\n",
              "            [ 3.0495e-21,  3.0558e-23,  3.0212e-31,  ..., -1.5415e-20,\n",
              "             -2.6481e-23,  7.7987e-21]], device='cuda:0'),\n",
              "    'exp_avg_sq': tensor([[1.4918e-11, 3.1975e-11, 2.7211e-11,  ..., 1.3730e-11, 1.3955e-11,\n",
              "             1.1603e-11],\n",
              "            [6.9758e-12, 1.3617e-11, 1.9236e-12,  ..., 1.1968e-11, 6.9241e-11,\n",
              "             3.5546e-12],\n",
              "            [5.0463e-09, 1.8297e-09, 2.1683e-09,  ..., 3.4838e-09, 1.7301e-09,\n",
              "             2.9368e-09],\n",
              "            ...,\n",
              "            [8.8710e-06, 9.4035e-07, 9.2869e-07,  ..., 1.0496e-06, 1.4236e-06,\n",
              "             2.9752e-06],\n",
              "            [6.6594e-08, 1.4118e-08, 6.5537e-08,  ..., 3.0978e-08, 6.2313e-08,\n",
              "             2.0421e-07],\n",
              "            [1.5461e-08, 4.1232e-07, 4.1804e-07,  ..., 1.4370e-07, 9.8476e-08,\n",
              "             4.7036e-08]], device='cuda:0'),\n",
              "    'step': 3190},\n",
              "   6: {'exp_avg': tensor([[-5.6052e-45, -5.6052e-45, -5.6052e-45,  ...,  5.6052e-45,\n",
              "             -5.6052e-45,  5.6052e-45],\n",
              "            [ 5.6052e-45,  5.6052e-45, -5.6052e-45,  ...,  5.2587e-21,\n",
              "              5.6052e-45,  5.6052e-45],\n",
              "            [-5.6052e-45, -5.6052e-45, -2.9735e-14,  ...,  5.6052e-45,\n",
              "              5.6052e-45,  5.6052e-45],\n",
              "            ...,\n",
              "            [-5.6052e-45, -9.7972e-32, -1.5335e-17,  ...,  5.6052e-45,\n",
              "             -5.6052e-45, -5.6052e-45],\n",
              "            [-5.6052e-45, -5.6052e-45,  5.6052e-45,  ...,  5.6052e-45,\n",
              "              5.6052e-45,  5.6052e-45],\n",
              "            [-5.6052e-45,  1.8981e-27, -5.6052e-45,  ...,  5.6052e-45,\n",
              "             -5.6052e-45,  5.6052e-45]], device='cuda:0'),\n",
              "    'exp_avg_sq': tensor([[1.0959e-11, 1.0036e-11, 1.7677e-11,  ..., 7.8544e-13, 1.1156e-11,\n",
              "             1.2893e-11],\n",
              "            [8.0668e-11, 2.3283e-11, 5.4027e-11,  ..., 8.5400e-12, 6.4338e-11,\n",
              "             5.6316e-11],\n",
              "            [1.3391e-11, 1.0889e-11, 6.7766e-10,  ..., 7.3098e-12, 1.2910e-11,\n",
              "             1.0774e-11],\n",
              "            ...,\n",
              "            [7.5258e-10, 8.9072e-10, 1.7430e-09,  ..., 4.2648e-10, 6.6388e-10,\n",
              "             1.0146e-09],\n",
              "            [1.4887e-09, 1.4884e-09, 1.7331e-09,  ..., 1.0205e-09, 1.4486e-09,\n",
              "             1.3578e-09],\n",
              "            [8.2875e-10, 6.0286e-10, 7.8309e-10,  ..., 2.3190e-10, 8.1145e-10,\n",
              "             8.3846e-10]], device='cuda:0'),\n",
              "    'step': 3190},\n",
              "   7: {'exp_avg': tensor([ 1.0925e-36,  1.0839e-16,  2.1727e-12, -1.1033e-09, -8.4600e-22,\n",
              "             4.2718e-15, -2.4784e-21,  8.1830e-12,  2.5267e-23, -6.5912e-23,\n",
              "             5.3705e-23, -3.0999e-16,  9.1630e-19, -1.7876e-13, -1.5403e-09,\n",
              "            -1.9855e-18, -5.3467e-21, -2.4946e-20, -1.0920e-15, -8.6620e-29,\n",
              "            -1.4268e-25, -5.6100e-24, -4.0174e-09, -1.4114e-16,  1.0297e-15,\n",
              "             5.4444e-25, -2.0947e-23, -1.4056e-14,  9.9186e-13, -8.7164e-12,\n",
              "             1.1656e-20,  8.2562e-31,  2.1077e-21, -8.3246e-16, -1.5486e-13,\n",
              "            -1.7569e-19, -3.8819e-12,  9.7693e-12, -7.3630e-12, -2.3992e-15,\n",
              "             9.4674e-13,  1.2332e-20, -7.7337e-18, -1.9938e-17,  2.7224e-24,\n",
              "             5.5323e-06,  2.9826e-18, -7.2864e-20,  3.0779e-17,  5.2386e-11,\n",
              "            -7.4634e-16, -2.7710e-11, -9.9284e-17,  2.8316e-28,  4.6877e-23,\n",
              "            -7.1988e-10, -1.2214e-14,  2.9125e-25, -4.1478e-18,  1.1983e-08,\n",
              "            -1.9879e-27, -1.0997e-14,  1.3535e-16, -9.5081e-22, -3.2425e-06,\n",
              "            -1.4475e-06, -2.7188e-04,  3.4189e-05, -4.0629e-05,  1.5479e-04,\n",
              "            -6.0539e-07, -3.1035e-05, -3.5993e-06, -2.6158e-07, -2.4145e-11,\n",
              "             4.3909e-05, -1.9168e-07, -3.6707e-05, -4.2478e-04, -1.8446e-05,\n",
              "            -8.5727e-06, -2.3485e-05, -2.2426e-05, -3.2236e-08,  1.1871e-04,\n",
              "            -1.1250e-05, -8.0848e-05,  2.5464e-09, -7.0118e-05, -2.4426e-06,\n",
              "             1.2493e-12, -7.1573e-05,  7.7098e-06, -7.3030e-07, -4.8689e-09,\n",
              "            -2.4439e-08, -1.6224e-08, -6.4813e-06, -2.2467e-04, -1.4403e-06,\n",
              "            -9.4864e-06, -2.4533e-04, -3.3925e-07, -8.1248e-10, -2.4360e-06,\n",
              "            -4.1782e-08, -2.8277e-07, -2.2227e-08, -5.3004e-05,  2.7015e-05,\n",
              "            -1.1404e-07, -2.0866e-09, -2.5785e-09, -1.0895e-06, -1.1163e-04,\n",
              "            -4.6639e-05, -2.0037e-05,  6.3761e-10, -1.0918e-09, -1.1505e-05,\n",
              "            -9.4602e-09, -1.3495e-11, -1.4347e-06, -3.7695e-04,  2.6035e-08,\n",
              "            -1.7292e-06, -5.2918e-06,  5.7987e-11, -4.3547e-15, -1.6802e-15,\n",
              "             1.0925e-06,  2.5133e-08, -1.4872e-10, -3.9201e-10,  2.3458e-12,\n",
              "            -1.2235e-06,  2.3971e-16, -9.4144e-15,  2.0915e-15,  7.0526e-10,\n",
              "            -2.1512e-09,  7.6766e-10,  7.1511e-05, -9.0374e-07,  1.1443e-15,\n",
              "            -6.9666e-09, -4.6148e-13, -7.5391e-17,  2.2349e-14, -1.4845e-06,\n",
              "             1.5324e-06,  2.4200e-13,  3.5086e-09, -1.0067e-13, -2.5100e-20,\n",
              "             3.2799e-07,  2.1004e-08, -6.0870e-09,  1.6951e-11,  1.9805e-19,\n",
              "             3.5460e-13,  1.9912e-14,  1.3052e-05,  1.4158e-11,  8.5265e-06,\n",
              "             1.8627e-07,  6.0286e-10, -4.5068e-09,  6.0183e-11, -1.7528e-10,\n",
              "             9.3666e-12,  6.6538e-12, -1.5740e-17, -1.3914e-04, -9.9528e-10,\n",
              "             8.6016e-12, -2.1453e-11,  3.1571e-06, -4.2542e-08,  6.0209e-07,\n",
              "            -2.8161e-14,  9.7507e-14, -7.3663e-21,  2.1245e-08,  1.3589e-13,\n",
              "            -3.3524e-16,  2.6624e-15, -2.2905e-07, -8.4831e-22, -2.4327e-13,\n",
              "            -8.7222e-10, -9.0320e-21], device='cuda:0'),\n",
              "    'exp_avg_sq': tensor([7.2515e-11, 3.2688e-10, 2.1254e-09, 4.6087e-09, 4.4327e-09, 4.9469e-08,\n",
              "            3.4577e-10, 4.5380e-09, 7.1909e-10, 2.1782e-09, 9.4834e-11, 6.2384e-10,\n",
              "            5.9586e-10, 1.8292e-10, 2.5706e-10, 2.6169e-08, 3.9840e-10, 3.5553e-10,\n",
              "            2.7477e-09, 3.0981e-10, 3.1464e-09, 6.4166e-10, 4.3673e-10, 4.1515e-10,\n",
              "            9.1268e-11, 1.6739e-09, 2.4423e-09, 3.7085e-10, 1.0052e-09, 5.3634e-10,\n",
              "            3.5231e-10, 1.3215e-09, 9.0013e-09, 1.0945e-10, 2.4904e-09, 2.0865e-08,\n",
              "            1.9071e-07, 9.1074e-10, 1.9039e-09, 1.8914e-10, 1.3906e-10, 1.0922e-10,\n",
              "            1.9668e-09, 4.1175e-09, 1.9531e-08, 5.8372e-07, 2.1820e-10, 6.1361e-10,\n",
              "            3.4573e-09, 1.7448e-10, 3.4387e-09, 4.1537e-09, 1.0748e-09, 5.0978e-10,\n",
              "            2.6118e-09, 7.0237e-10, 1.5636e-10, 5.6092e-10, 3.9001e-10, 1.8720e-10,\n",
              "            6.1715e-10, 5.5656e-09, 1.6712e-10, 3.4432e-10, 7.6897e-08, 9.0806e-08,\n",
              "            1.2821e-06, 6.3776e-07, 9.9783e-08, 1.2753e-06, 8.2361e-08, 8.1885e-08,\n",
              "            6.1963e-08, 1.9641e-07, 5.6768e-08, 6.3252e-08, 6.3210e-08, 1.8573e-07,\n",
              "            3.6761e-07, 1.6012e-06, 6.2423e-08, 1.3561e-07, 1.3843e-07, 2.0511e-07,\n",
              "            7.9733e-07, 1.2430e-07, 1.4928e-07, 1.6315e-07, 1.7427e-07, 2.0570e-07,\n",
              "            5.5614e-08, 6.4771e-07, 4.2632e-06, 1.2922e-07, 6.7570e-08, 2.8947e-07,\n",
              "            3.5676e-07, 7.2218e-08, 1.2709e-07, 1.3964e-07, 2.2745e-06, 1.2582e-07,\n",
              "            4.0245e-07, 7.3739e-08, 1.2405e-07, 7.1105e-08, 1.1924e-07, 6.7614e-08,\n",
              "            1.4451e-07, 2.1335e-06, 1.1156e-07, 8.2372e-08, 1.2201e-07, 4.3353e-07,\n",
              "            1.5857e-07, 9.1065e-07, 9.1429e-08, 1.0061e-07, 1.1636e-07, 1.7495e-07,\n",
              "            5.2203e-08, 1.0952e-07, 5.3067e-08, 1.0762e-07, 8.4520e-08, 2.1074e-07,\n",
              "            7.6886e-08, 5.3509e-08, 1.3812e-07, 2.5381e-07, 2.8799e-07, 2.8439e-07,\n",
              "            2.0076e-07, 1.5521e-07, 1.1964e-07, 1.5652e-07, 1.9129e-07, 1.4819e-07,\n",
              "            1.3794e-07, 1.0168e-07, 1.0310e-07, 1.8016e-07, 1.4801e-07, 5.2894e-07,\n",
              "            2.2100e-07, 2.3780e-07, 1.9724e-07, 6.8946e-08, 1.6785e-07, 5.4615e-08,\n",
              "            2.3450e-07, 2.0642e-07, 1.2974e-07, 1.2528e-07, 2.2149e-07, 2.6872e-07,\n",
              "            4.4680e-07, 1.7218e-07, 2.0502e-07, 1.4561e-07, 3.0490e-07, 1.3364e-07,\n",
              "            1.2427e-07, 3.0196e-07, 1.2755e-06, 1.9218e-07, 1.7278e-07, 6.6212e-08,\n",
              "            3.0658e-08, 1.4695e-07, 1.8364e-07, 2.3888e-07, 3.8288e-07, 4.2178e-06,\n",
              "            1.2833e-07, 2.3459e-07, 2.4073e-07, 1.6730e-07, 2.3749e-07, 3.8435e-07,\n",
              "            1.8478e-07, 1.4052e-07, 1.4738e-07, 1.6997e-07, 3.5011e-08, 1.1124e-07,\n",
              "            1.5258e-07, 1.4092e-07, 1.1244e-07, 1.4867e-07, 1.8962e-07, 2.0764e-07],\n",
              "           device='cuda:0'),\n",
              "    'step': 3190},\n",
              "   8: {'exp_avg': tensor([ 1.0925e-36,  1.0839e-16,  2.1727e-12, -1.1033e-09, -8.4600e-22,\n",
              "             4.2718e-15, -2.4784e-21,  8.1830e-12,  2.5267e-23, -6.5912e-23,\n",
              "             5.3705e-23, -3.0999e-16,  9.1630e-19, -1.7876e-13, -1.5403e-09,\n",
              "            -1.9855e-18, -5.3467e-21, -2.4946e-20, -1.0920e-15, -8.6620e-29,\n",
              "            -1.4268e-25, -5.6100e-24, -4.0174e-09, -1.4114e-16,  1.0297e-15,\n",
              "             5.4444e-25, -2.0947e-23, -1.4056e-14,  9.9186e-13, -8.7164e-12,\n",
              "             1.1656e-20,  8.2562e-31,  2.1077e-21, -8.3246e-16, -1.5486e-13,\n",
              "            -1.7569e-19, -3.8819e-12,  9.7693e-12, -7.3630e-12, -2.3992e-15,\n",
              "             9.4674e-13,  1.2332e-20, -7.7337e-18, -1.9938e-17,  2.7224e-24,\n",
              "             5.5323e-06,  2.9826e-18, -7.2864e-20,  3.0779e-17,  5.2386e-11,\n",
              "            -7.4634e-16, -2.7710e-11, -9.9284e-17,  2.8316e-28,  4.6877e-23,\n",
              "            -7.1988e-10, -1.2214e-14,  2.9125e-25, -4.1478e-18,  1.1983e-08,\n",
              "            -1.9879e-27, -1.0997e-14,  1.3535e-16, -9.5081e-22, -3.2425e-06,\n",
              "            -1.4475e-06, -2.7188e-04,  3.4189e-05, -4.0629e-05,  1.5479e-04,\n",
              "            -6.0539e-07, -3.1035e-05, -3.5993e-06, -2.6158e-07, -2.4145e-11,\n",
              "             4.3909e-05, -1.9168e-07, -3.6707e-05, -4.2478e-04, -1.8446e-05,\n",
              "            -8.5727e-06, -2.3485e-05, -2.2426e-05, -3.2236e-08,  1.1871e-04,\n",
              "            -1.1250e-05, -8.0848e-05,  2.5464e-09, -7.0118e-05, -2.4426e-06,\n",
              "             1.2493e-12, -7.1573e-05,  7.7098e-06, -7.3030e-07, -4.8689e-09,\n",
              "            -2.4439e-08, -1.6224e-08, -6.4813e-06, -2.2467e-04, -1.4403e-06,\n",
              "            -9.4864e-06, -2.4533e-04, -3.3925e-07, -8.1248e-10, -2.4360e-06,\n",
              "            -4.1782e-08, -2.8277e-07, -2.2227e-08, -5.3004e-05,  2.7015e-05,\n",
              "            -1.1404e-07, -2.0866e-09, -2.5785e-09, -1.0895e-06, -1.1163e-04,\n",
              "            -4.6639e-05, -2.0037e-05,  6.3761e-10, -1.0918e-09, -1.1505e-05,\n",
              "            -9.4602e-09, -1.3495e-11, -1.4347e-06, -3.7695e-04,  2.6035e-08,\n",
              "            -1.7292e-06, -5.2918e-06,  5.7987e-11, -6.3016e-37,  3.4806e-15,\n",
              "             1.0928e-06,  2.0922e-08, -1.4872e-10, -4.0639e-14, -2.3371e-17,\n",
              "            -1.2235e-06,  8.9625e-21,  1.0748e-23, -3.7068e-18,  7.0300e-10,\n",
              "            -2.1514e-09, -1.6698e-11,  6.7184e-05, -9.0374e-07,  1.1408e-15,\n",
              "            -7.0078e-09, -6.4017e-14, -7.1556e-17,  2.2398e-14, -1.3146e-21,\n",
              "             1.3935e-06,  2.4198e-13,  3.5084e-09,  3.4463e-18, -2.5098e-20,\n",
              "             6.6839e-08,  2.3650e-12,  2.9303e-10, -2.4682e-21,  1.9805e-19,\n",
              "            -9.1416e-21,  8.1397e-16,  1.9743e-10, -1.7296e-17, -9.6007e-08,\n",
              "             6.6024e-11,  5.8008e-10, -6.6076e-16,  4.5670e-13, -5.1099e-16,\n",
              "             9.3668e-12,  6.6391e-12, -1.5740e-17, -2.1110e-05, -1.4462e-09,\n",
              "            -5.6954e-18, -2.1450e-11, -4.2333e-12,  1.6843e-08,  2.7948e-09,\n",
              "            -2.8151e-14,  4.5074e-19, -7.3542e-21,  6.3176e-10,  9.3154e-15,\n",
              "            -3.3524e-16,  3.9892e-15, -7.2104e-08, -7.1253e-22,  1.7103e-13,\n",
              "            -8.7222e-10, -8.4629e-21], device='cuda:0'),\n",
              "    'exp_avg_sq': tensor([7.2515e-11, 3.2688e-10, 2.1254e-09, 4.6087e-09, 4.4327e-09, 4.9469e-08,\n",
              "            3.4577e-10, 4.5380e-09, 7.1909e-10, 2.1782e-09, 9.4834e-11, 6.2384e-10,\n",
              "            5.9586e-10, 1.8292e-10, 2.5706e-10, 2.6169e-08, 3.9840e-10, 3.5553e-10,\n",
              "            2.7477e-09, 3.0981e-10, 3.1464e-09, 6.4166e-10, 4.3673e-10, 4.1515e-10,\n",
              "            9.1268e-11, 1.6739e-09, 2.4423e-09, 3.7085e-10, 1.0052e-09, 5.3634e-10,\n",
              "            3.5231e-10, 1.3215e-09, 9.0013e-09, 1.0945e-10, 2.4904e-09, 2.0865e-08,\n",
              "            1.9071e-07, 9.1074e-10, 1.9039e-09, 1.8914e-10, 1.3906e-10, 1.0922e-10,\n",
              "            1.9668e-09, 4.1175e-09, 1.9531e-08, 5.8372e-07, 2.1820e-10, 6.1361e-10,\n",
              "            3.4573e-09, 1.7448e-10, 3.4387e-09, 4.1537e-09, 1.0748e-09, 5.0978e-10,\n",
              "            2.6118e-09, 7.0237e-10, 1.5636e-10, 5.6092e-10, 3.9001e-10, 1.8720e-10,\n",
              "            6.1715e-10, 5.5656e-09, 1.6712e-10, 3.4432e-10, 7.6897e-08, 9.0806e-08,\n",
              "            1.2821e-06, 6.3776e-07, 9.9783e-08, 1.2753e-06, 8.2361e-08, 8.1885e-08,\n",
              "            6.1963e-08, 1.9641e-07, 5.6768e-08, 6.3252e-08, 6.3210e-08, 1.8573e-07,\n",
              "            3.6761e-07, 1.6012e-06, 6.2423e-08, 1.3561e-07, 1.3843e-07, 2.0511e-07,\n",
              "            7.9733e-07, 1.2430e-07, 1.4928e-07, 1.6315e-07, 1.7427e-07, 2.0570e-07,\n",
              "            5.5614e-08, 6.4771e-07, 4.2632e-06, 1.2922e-07, 6.7570e-08, 2.8947e-07,\n",
              "            3.5676e-07, 7.2218e-08, 1.2709e-07, 1.3964e-07, 2.2745e-06, 1.2582e-07,\n",
              "            4.0245e-07, 7.3739e-08, 1.2405e-07, 7.1105e-08, 1.1924e-07, 6.7614e-08,\n",
              "            1.4451e-07, 2.1335e-06, 1.1156e-07, 8.2372e-08, 1.2201e-07, 4.3353e-07,\n",
              "            1.5857e-07, 9.1065e-07, 9.1429e-08, 1.0061e-07, 1.1636e-07, 1.7495e-07,\n",
              "            5.2203e-08, 1.0952e-07, 5.3067e-08, 1.0762e-07, 8.4520e-08, 2.1074e-07,\n",
              "            7.6886e-08, 5.3509e-08, 3.2482e-08, 1.1129e-07, 1.2626e-07, 1.0075e-07,\n",
              "            4.3345e-08, 3.1000e-08, 2.5503e-08, 3.2842e-08, 4.7240e-08, 4.5520e-08,\n",
              "            3.2357e-08, 2.5999e-08, 2.3708e-08, 3.7739e-08, 4.6119e-08, 1.4232e-07,\n",
              "            5.7172e-08, 7.1035e-08, 5.1967e-08, 2.1377e-08, 7.2305e-08, 1.9802e-08,\n",
              "            6.7845e-08, 7.1447e-08, 4.9628e-08, 2.6797e-08, 6.6673e-08, 3.3668e-08,\n",
              "            1.4077e-07, 4.1706e-08, 5.9239e-08, 4.2167e-08, 4.4454e-08, 3.6897e-08,\n",
              "            2.5672e-08, 7.5772e-08, 3.5776e-07, 5.5771e-08, 4.4403e-08, 1.0349e-08,\n",
              "            5.0619e-09, 3.5184e-08, 4.7133e-08, 5.4576e-08, 1.0181e-07, 6.6372e-07,\n",
              "            2.8015e-08, 6.2797e-08, 4.4815e-08, 3.9846e-08, 5.9805e-08, 1.4419e-07,\n",
              "            4.9301e-08, 3.5213e-08, 3.4455e-08, 4.8065e-08, 9.8078e-09, 2.3498e-08,\n",
              "            3.3812e-08, 3.5114e-08, 3.5246e-08, 4.9557e-08, 5.4163e-08, 5.5464e-08],\n",
              "           device='cuda:0'),\n",
              "    'step': 3190},\n",
              "   9: {'exp_avg': tensor([[-8.7142e-06, -7.3906e-06, -3.2616e-06,  ...,  5.1394e-14,\n",
              "             -9.5872e-14, -1.9663e-15],\n",
              "            [ 5.0099e-08, -4.9724e-08, -1.1249e-08,  ..., -8.5031e-14,\n",
              "              2.4925e-16, -8.1815e-19],\n",
              "            [ 2.2532e-08,  2.2641e-08,  1.0695e-08,  ...,  4.1321e-17,\n",
              "             -5.6052e-45,  5.6052e-45],\n",
              "            ...,\n",
              "            [ 4.4459e-11, -4.2645e-11,  4.3330e-11,  ...,  5.6052e-45,\n",
              "             -5.6052e-45,  5.6052e-45],\n",
              "            [-1.6615e-10,  4.7856e-11,  4.7855e-11,  ..., -5.6052e-45,\n",
              "             -5.6052e-45,  5.6052e-45],\n",
              "            [ 4.0477e-13,  6.3248e-12, -6.3253e-12,  ...,  5.6052e-45,\n",
              "              5.6052e-45,  5.6052e-45]], device='cuda:0'),\n",
              "    'exp_avg_sq': tensor([[6.5915e-07, 6.0217e-07, 7.4917e-07,  ..., 2.4614e-10, 3.1264e-10,\n",
              "             1.3832e-10],\n",
              "            [8.0280e-09, 7.4108e-09, 4.6170e-09,  ..., 8.4031e-11, 1.1601e-10,\n",
              "             1.5300e-10],\n",
              "            [8.6900e-10, 1.0106e-09, 9.4647e-10,  ..., 9.8898e-11, 1.0484e-10,\n",
              "             8.2784e-12],\n",
              "            ...,\n",
              "            [5.0796e-09, 4.8995e-09, 4.9020e-09,  ..., 1.5406e-10, 1.0634e-10,\n",
              "             1.5759e-10],\n",
              "            [1.0694e-09, 1.4628e-09, 1.2469e-09,  ..., 1.1051e-10, 1.4387e-10,\n",
              "             3.1529e-11],\n",
              "            [1.2407e-09, 1.2058e-09, 1.2431e-09,  ..., 3.3555e-10, 5.0601e-11,\n",
              "             4.5000e-11]], device='cuda:0'),\n",
              "    'step': 3190},\n",
              "   10: {'exp_avg': tensor([ 2.7719e-06, -5.1505e-08,  1.3624e-08, -3.4699e-07,  6.0444e-06,\n",
              "             1.4046e-19, -3.9040e-09, -1.3611e-07,  1.5668e-07,  4.6173e-19,\n",
              "            -1.6996e-05,  1.1749e-06, -6.5453e-07,  1.0713e-04, -1.7402e-13,\n",
              "            -5.7444e-07, -4.5847e-10, -1.7204e-11,  2.8422e-11,  1.0141e-07,\n",
              "             3.5687e-08,  3.8274e-16, -7.8176e-11,  9.5630e-13,  9.6641e-12,\n",
              "             2.8420e-11,  3.3610e-06, -3.1100e-11, -5.3273e-08, -6.7161e-13,\n",
              "            -3.4851e-09, -1.0575e-15, -2.9015e-10, -2.1189e-05,  1.2559e-11,\n",
              "             4.5105e-08, -4.4561e-06, -2.5428e-06, -1.8867e-10, -5.7207e-09,\n",
              "            -3.1690e-12,  5.3466e-06,  6.5788e-32,  4.8907e-06, -5.6707e-11,\n",
              "            -1.9609e-25,  3.8507e-25, -6.3195e-10,  1.5301e-05, -1.0198e-08,\n",
              "            -1.1050e-10, -7.3694e-10,  1.6557e-10,  1.2737e-14, -2.5308e-27,\n",
              "            -7.6718e-31, -5.0719e-17, -8.1963e-07,  3.3757e-07,  1.7809e-09,\n",
              "             1.8933e-05,  4.4459e-11,  4.7856e-11,  6.3248e-12], device='cuda:0'),\n",
              "    'exp_avg_sq': tensor([8.0481e-07, 1.3917e-08, 1.2017e-09, 1.8302e-08, 8.6384e-09, 4.1524e-08,\n",
              "            6.5900e-08, 3.2012e-09, 5.3416e-09, 2.6933e-08, 2.2141e-08, 1.6444e-08,\n",
              "            4.2288e-07, 6.2974e-08, 2.4184e-08, 3.7037e-08, 1.5258e-08, 3.1204e-08,\n",
              "            3.9317e-08, 7.0303e-09, 1.6117e-08, 1.0064e-10, 1.6998e-08, 4.4709e-08,\n",
              "            3.6663e-08, 3.0898e-08, 2.3213e-08, 6.3621e-09, 3.1235e-09, 2.3528e-09,\n",
              "            8.7455e-09, 3.3968e-09, 5.2555e-09, 2.6781e-08, 1.2771e-08, 6.8287e-09,\n",
              "            5.7810e-07, 3.8006e-09, 9.3504e-09, 2.9350e-08, 8.7040e-09, 7.9790e-09,\n",
              "            1.5494e-08, 5.3319e-08, 5.0394e-09, 2.4491e-08, 1.2332e-08, 7.9821e-09,\n",
              "            7.7487e-08, 1.7361e-08, 8.5153e-09, 2.6262e-09, 5.9952e-08, 1.5097e-08,\n",
              "            1.8958e-08, 1.0026e-08, 5.9832e-09, 4.5198e-09, 3.3419e-09, 8.1770e-09,\n",
              "            2.5790e-08, 6.7340e-09, 7.0520e-09, 1.2564e-09], device='cuda:0'),\n",
              "    'step': 3190},\n",
              "   11: {'exp_avg': tensor([[-8.1410e-06,  6.6489e-06, -1.1742e-05,  ..., -5.1623e-13,\n",
              "              4.1009e-17,  3.2698e-21],\n",
              "            [-4.4355e-04, -8.2468e-04, -8.0892e-04,  ..., -7.0197e-08,\n",
              "             -4.3562e-09, -2.0415e-14],\n",
              "            [-1.6380e-04,  1.9935e-04,  7.4907e-05,  ...,  2.0359e-07,\n",
              "              1.9730e-13,  3.2669e-16],\n",
              "            ...,\n",
              "            [-5.1858e-05,  6.3417e-05, -1.0188e-04,  ...,  9.7726e-09,\n",
              "              1.5202e-10,  3.8086e-17],\n",
              "            [ 5.2350e-04,  2.9520e-05,  6.3547e-04,  ...,  5.3805e-08,\n",
              "             -2.7471e-06,  1.8703e-08],\n",
              "            [ 1.3014e-04, -7.9537e-04,  2.5394e-04,  ...,  3.7296e-07,\n",
              "             -1.0419e-06, -2.3488e-13]], device='cuda:0'),\n",
              "    'exp_avg_sq': tensor([[5.5886e-08, 6.3423e-08, 6.5257e-08,  ..., 1.3087e-10, 2.9498e-10,\n",
              "             2.2819e-10],\n",
              "            [6.6941e-06, 7.2888e-06, 6.1956e-06,  ..., 1.8821e-08, 1.7791e-08,\n",
              "             4.2912e-09],\n",
              "            [1.6621e-06, 1.8420e-06, 1.8330e-06,  ..., 6.7126e-10, 6.5256e-10,\n",
              "             1.7448e-10],\n",
              "            ...,\n",
              "            [1.8456e-06, 1.8443e-06, 1.8156e-06,  ..., 3.6661e-09, 3.0666e-09,\n",
              "             1.0704e-09],\n",
              "            [4.5863e-06, 4.6086e-06, 4.4195e-06,  ..., 2.0386e-08, 9.5162e-10,\n",
              "             6.6510e-10],\n",
              "            [2.8820e-05, 2.9390e-05, 2.6993e-05,  ..., 7.5271e-08, 3.3694e-08,\n",
              "             7.1739e-09]], device='cuda:0'),\n",
              "    'step': 3190},\n",
              "   12: {'exp_avg': tensor([-8.5682e-06, -8.3808e-04,  2.8954e-05,  4.0580e-05,  1.1543e-10,\n",
              "            -1.0169e-04,  6.5825e-04,  2.4896e-04], device='cuda:0'),\n",
              "    'exp_avg_sq': tensor([6.7379e-08, 7.3605e-06, 1.8536e-06, 6.7373e-06, 3.4085e-09, 1.8320e-06,\n",
              "            4.9702e-06, 3.1233e-05], device='cuda:0'),\n",
              "    'step': 3190},\n",
              "   13: {'exp_avg': tensor([[ 0.0000e+00,  0.0000e+00,  0.0000e+00,  ...,  0.0000e+00,\n",
              "              0.0000e+00,  0.0000e+00],\n",
              "            [ 0.0000e+00,  0.0000e+00,  0.0000e+00,  ...,  0.0000e+00,\n",
              "              0.0000e+00,  0.0000e+00],\n",
              "            [-3.2212e-03,  1.3936e-02,  6.0503e-03,  ...,  3.0351e-03,\n",
              "              5.1485e-03,  4.5989e-03],\n",
              "            ...,\n",
              "            [-6.2623e-12,  2.7959e-12, -2.5225e-26,  ...,  1.6343e-25,\n",
              "             -5.3035e-13, -6.0784e-25],\n",
              "            [ 2.6570e-16, -8.3648e-16, -4.8247e-16,  ..., -2.7698e-16,\n",
              "             -1.1052e-15, -6.5878e-16],\n",
              "            [-1.0053e-26, -5.6052e-45,  1.0277e-26,  ..., -5.5712e-29,\n",
              "             -5.4585e-27, -2.9413e-27]], device='cuda:0'),\n",
              "    'exp_avg_sq': tensor([[0.0000e+00, 0.0000e+00, 0.0000e+00,  ..., 0.0000e+00, 0.0000e+00,\n",
              "             0.0000e+00],\n",
              "            [0.0000e+00, 0.0000e+00, 0.0000e+00,  ..., 0.0000e+00, 0.0000e+00,\n",
              "             0.0000e+00],\n",
              "            [6.2857e-04, 6.7994e-04, 5.8022e-04,  ..., 5.7328e-04, 4.5362e-04,\n",
              "             5.7751e-04],\n",
              "            ...,\n",
              "            [1.3598e-08, 4.0708e-08, 2.9350e-10,  ..., 1.0231e-08, 2.2839e-08,\n",
              "             8.3226e-08],\n",
              "            [4.6053e-08, 1.2520e-07, 4.0246e-08,  ..., 2.1493e-08, 2.1099e-07,\n",
              "             7.4416e-08],\n",
              "            [1.2567e-06, 1.4620e-08, 1.3264e-06,  ..., 1.0778e-08, 3.9126e-07,\n",
              "             1.1456e-07]], device='cuda:0'),\n",
              "    'step': 3190},\n",
              "   14: {'exp_avg': tensor([[-1.2413e-06,  9.4206e-07,  2.3946e-08,  ...,  4.5455e-17,\n",
              "              5.8121e-13, -3.7494e-25],\n",
              "            [-5.6052e-45, -5.6052e-45,  5.6052e-45,  ...,  5.6052e-45,\n",
              "              5.6052e-45, -5.6052e-45],\n",
              "            [ 5.7087e-12, -6.6747e-12,  9.4236e-14,  ...,  7.7418e-27,\n",
              "              2.2399e-24, -2.1653e-26],\n",
              "            ...,\n",
              "            [ 5.6052e-45, -5.6052e-45, -5.6052e-45,  ..., -5.6052e-45,\n",
              "              5.6052e-45,  5.6052e-45],\n",
              "            [ 1.5261e-26,  2.4753e-27, -2.8457e-34,  ...,  5.6052e-45,\n",
              "              5.6052e-45, -5.6052e-45],\n",
              "            [-1.5910e-10, -2.9914e-20,  1.5335e-10,  ..., -1.5786e-24,\n",
              "             -4.5582e-22,  4.4159e-24]], device='cuda:0'),\n",
              "    'exp_avg_sq': tensor([[1.2300e-12, 2.3151e-12, 2.0537e-13,  ..., 4.3179e-13, 9.6531e-13,\n",
              "             1.1042e-12],\n",
              "            [6.2124e-13, 3.1553e-09, 3.6171e-12,  ..., 1.2028e-11, 2.0457e-13,\n",
              "             2.0431e-13],\n",
              "            [7.1320e-13, 2.0421e-12, 3.7694e-11,  ..., 8.2818e-14, 1.4558e-13,\n",
              "             1.6236e-13],\n",
              "            ...,\n",
              "            [9.3056e-10, 2.2368e-11, 8.9851e-11,  ..., 5.8522e-11, 1.4004e-10,\n",
              "             1.5453e-10],\n",
              "            [3.7326e-08, 2.4243e-09, 3.1316e-10,  ..., 2.5479e-10, 7.4621e-10,\n",
              "             8.0928e-10],\n",
              "            [3.4236e-08, 5.6584e-09, 3.5530e-08,  ..., 2.0283e-11, 3.0584e-11,\n",
              "             6.2119e-12]], device='cuda:0'),\n",
              "    'step': 3190},\n",
              "   15: {'exp_avg': tensor([[ 1.5826e-05,  1.4981e-05,  1.5823e-05,  ..., -1.5917e-05,\n",
              "              1.5824e-05, -1.5824e-05],\n",
              "            [-5.6052e-45,  5.6052e-45, -5.6052e-45,  ...,  5.6052e-45,\n",
              "             -5.6052e-45,  5.6052e-45],\n",
              "            [ 2.4213e-12, -1.3861e-12,  6.2099e-13,  ..., -2.3764e-12,\n",
              "              2.4360e-12, -2.4360e-12],\n",
              "            ...,\n",
              "            [ 5.6052e-45, -5.6052e-45,  5.6052e-45,  ..., -5.6052e-45,\n",
              "              5.6052e-45, -5.6052e-45],\n",
              "            [-8.8448e-35,  8.8448e-35, -8.8448e-35,  ..., -8.8448e-35,\n",
              "             -8.8448e-35,  8.8448e-35],\n",
              "            [-1.7761e-10, -1.7761e-10,  1.7761e-10,  ..., -1.7756e-10,\n",
              "              1.7761e-10, -1.7761e-10]], device='cuda:0'),\n",
              "    'exp_avg_sq': tensor([[5.2705e-11, 5.2862e-11, 5.2293e-11,  ..., 5.4753e-11, 5.3980e-11,\n",
              "             5.3849e-11],\n",
              "            [1.7948e-10, 1.7537e-10, 1.0851e-10,  ..., 1.8060e-10, 1.8061e-10,\n",
              "             1.7433e-10],\n",
              "            [8.3224e-12, 1.7056e-12, 6.1936e-13,  ..., 2.9120e-12, 8.3631e-12,\n",
              "             1.1236e-12],\n",
              "            ...,\n",
              "            [7.9215e-11, 9.8361e-11, 5.6040e-11,  ..., 6.2603e-11, 1.2741e-10,\n",
              "             7.2679e-11],\n",
              "            [3.0876e-09, 2.8999e-09, 2.9512e-09,  ..., 2.9501e-09, 3.1434e-09,\n",
              "             3.2395e-09],\n",
              "            [1.1823e-09, 7.3801e-10, 5.4464e-10,  ..., 7.6913e-10, 1.1257e-09,\n",
              "             8.6816e-10]], device='cuda:0'),\n",
              "    'step': 3190},\n",
              "   16: {'exp_avg': tensor([ 1.5824e-05, -5.6052e-45,  2.4360e-12, -5.6052e-45, -4.8790e-25,\n",
              "             8.3091e-22,  7.7587e-38, -6.7543e-43,  6.4416e-13,  4.3759e-36,\n",
              "            -7.8074e-12,  1.0625e-14,  3.0010e-19,  1.8191e-39,  1.8137e-20,\n",
              "            -4.4041e-11, -5.6052e-45,  5.6052e-45, -5.6052e-45,  2.1323e-13,\n",
              "            -1.2504e-11, -1.2161e-28, -1.4263e-40,  1.8792e-21, -5.6052e-45,\n",
              "            -5.6052e-45, -5.6052e-45, -6.2074e-33,  2.2073e-15, -2.9509e-13,\n",
              "            -2.7222e-38, -5.6052e-45, -1.1617e-20, -9.5583e-08,  2.6170e-34,\n",
              "            -4.7309e-23, -1.2666e-21, -2.1577e-10, -1.3978e-11, -1.1146e-03,\n",
              "            -5.6052e-45,  5.6052e-45, -9.3934e-18, -6.3896e-13,  2.5325e-18,\n",
              "            -3.4994e-16,  2.2131e-28,  5.6052e-45, -1.4453e-30,  2.0222e-29,\n",
              "            -5.0575e-25,  5.6052e-45, -1.1416e-29, -5.6052e-45, -5.6052e-45,\n",
              "            -2.1774e-17, -1.4400e-29, -1.3185e-18, -3.4626e-18, -5.6052e-45,\n",
              "             1.3887e-10, -5.6052e-45,  1.1196e-33, -3.6029e-28, -1.5453e-04,\n",
              "            -9.6906e-04,  6.1304e-13, -2.0219e-13, -4.7598e-11,  5.2017e-15,\n",
              "            -7.9964e-10,  2.2933e-17,  4.2210e-14, -8.5369e-15,  3.8969e-19,\n",
              "            -5.9572e-23, -2.0422e-08,  2.9249e-13, -2.0336e-10, -1.7297e-12,\n",
              "             4.9357e-12, -8.4379e-14, -5.6052e-45,  9.2987e-06,  3.7839e-09,\n",
              "             2.6322e-06,  4.3130e-12, -5.9533e-14, -6.0807e-16, -5.6052e-45,\n",
              "            -2.5141e-08,  1.4852e-05,  3.6305e-08, -4.8608e-05,  1.3763e-38,\n",
              "             1.5990e-04, -1.7830e-10, -1.1597e-05,  5.7998e-05, -8.1744e-10,\n",
              "            -2.6416e-12, -6.2529e-07, -1.2594e-04,  8.0220e-05, -5.6052e-45,\n",
              "             4.6594e-15, -5.7640e-09,  2.5287e-08,  1.8602e-08,  1.7046e-11,\n",
              "             1.7308e-29, -7.4044e-10, -1.8626e-04,  3.2483e-07,  1.5964e-14,\n",
              "            -6.4504e-20, -2.3604e-05, -8.6684e-06, -5.6052e-45, -6.3625e-07,\n",
              "             1.8876e-04, -2.0396e-23, -7.7853e-07, -3.6405e-04,  2.6007e-05,\n",
              "             1.2767e-06, -5.1385e-25,  3.9372e-12, -1.4919e-04,  9.9249e-14,\n",
              "            -2.0974e-04,  4.0117e-34,  1.6176e-18, -9.8748e-15,  3.2832e-36,\n",
              "            -4.1555e-08,  1.2549e-04,  3.1098e-26,  3.0811e-13,  7.0312e-14,\n",
              "             1.3033e-16, -8.0723e-12, -9.7126e-04, -3.6645e-10, -2.1577e-23,\n",
              "            -1.6786e-13,  5.6052e-45, -3.1348e-05, -4.1112e-11, -1.4005e-03,\n",
              "            -1.0686e-23,  7.3048e-17,  5.6052e-45,  5.6052e-45, -6.4371e-06,\n",
              "            -3.0976e-04,  4.8332e-15, -1.5711e-03,  1.7705e-37, -1.4875e-09,\n",
              "            -2.6518e-12, -1.9812e-04,  4.6650e-06,  1.1873e-11, -1.6504e-07,\n",
              "             6.2337e-06,  5.2192e-05, -2.0861e-04, -5.6052e-45,  3.7391e-40,\n",
              "            -2.4561e-17, -4.7711e-13, -8.5795e-05, -7.9420e-07, -3.4636e-29,\n",
              "             3.6872e-18, -1.9692e-10,  7.0611e-08, -4.5360e-20, -5.6052e-45,\n",
              "             2.8364e-31, -5.6052e-45, -5.6052e-45,  1.7564e-10, -1.2497e-13,\n",
              "             1.4881e-11, -1.5040e-04, -5.3642e-30, -8.4853e-09,  5.6052e-45,\n",
              "            -3.2172e-25,  1.7761e-10], device='cuda:0'),\n",
              "    'exp_avg_sq': tensor([1.2008e-10, 1.8192e-10, 1.8002e-11, 2.1526e-08, 8.3281e-09, 2.8708e-11,\n",
              "            3.2714e-11, 9.2478e-10, 1.4891e-08, 1.2797e-10, 4.0559e-11, 6.4264e-08,\n",
              "            3.6562e-10, 2.7704e-10, 2.6109e-10, 5.5311e-11, 2.9791e-10, 4.1066e-12,\n",
              "            1.0227e-10, 4.1963e-07, 3.5872e-08, 3.0967e-10, 1.0908e-08, 7.0676e-11,\n",
              "            4.1070e-10, 2.9757e-12, 3.8268e-10, 9.4952e-10, 6.2224e-11, 9.5534e-11,\n",
              "            1.1206e-10, 8.9473e-10, 8.2493e-11, 5.5846e-08, 7.3074e-08, 1.4255e-09,\n",
              "            3.6338e-08, 1.8397e-07, 8.9245e-09, 2.5896e-06, 1.0737e-10, 8.5674e-13,\n",
              "            1.5801e-10, 5.8035e-09, 8.0694e-10, 1.3151e-08, 4.0052e-10, 2.3266e-09,\n",
              "            3.7281e-11, 8.3503e-12, 5.8105e-10, 6.1314e-11, 6.6872e-07, 1.6098e-08,\n",
              "            1.8161e-10, 4.1967e-11, 2.0649e-09, 1.2371e-09, 1.1940e-11, 6.9127e-11,\n",
              "            1.9206e-09, 1.9141e-10, 3.5213e-10, 3.6693e-10, 1.0820e-07, 1.5862e-07,\n",
              "            8.2285e-09, 3.5902e-08, 4.0697e-09, 5.8503e-10, 2.2140e-08, 7.3831e-10,\n",
              "            6.8657e-09, 3.2130e-09, 2.0844e-09, 6.2446e-10, 2.6642e-08, 6.8479e-08,\n",
              "            1.4764e-09, 4.0863e-09, 6.9741e-10, 2.4045e-09, 3.8001e-10, 1.4467e-07,\n",
              "            2.2937e-07, 9.0399e-08, 2.9040e-08, 3.8217e-09, 2.6089e-08, 3.4538e-10,\n",
              "            4.1769e-09, 2.4357e-09, 9.2379e-10, 1.1850e-07, 5.9806e-09, 2.7048e-06,\n",
              "            2.6482e-08, 2.4122e-08, 1.6966e-08, 2.7024e-08, 1.4038e-09, 5.5614e-08,\n",
              "            1.8332e-07, 1.1586e-08, 3.7610e-10, 4.3882e-10, 2.0048e-10, 1.3778e-08,\n",
              "            2.5502e-08, 1.1138e-07, 6.0710e-08, 1.7827e-08, 2.8500e-07, 4.1621e-08,\n",
              "            2.7327e-09, 2.0788e-08, 1.0733e-06, 1.8516e-07, 5.9428e-10, 1.3931e-09,\n",
              "            2.3297e-05, 1.0655e-08, 7.8021e-09, 6.3797e-07, 9.6434e-09, 2.1678e-08,\n",
              "            1.3760e-08, 2.1447e-10, 4.2465e-07, 9.7131e-08, 6.9775e-06, 7.3242e-08,\n",
              "            6.7251e-09, 2.5302e-08, 3.9648e-08, 3.8911e-08, 2.9132e-06, 4.3215e-08,\n",
              "            1.9704e-08, 1.0824e-06, 1.1351e-07, 8.7091e-08, 7.8559e-06, 4.6998e-08,\n",
              "            1.3127e-08, 2.6193e-08, 2.3253e-08, 8.7255e-07, 1.8904e-06, 1.1826e-03,\n",
              "            5.9079e-08, 3.8394e-08, 2.3212e-08, 5.6242e-08, 9.6564e-08, 9.4702e-07,\n",
              "            3.8398e-08, 6.6123e-06, 9.0319e-08, 8.5346e-09, 3.7876e-07, 1.7329e-06,\n",
              "            7.9835e-08, 9.0228e-08, 6.6857e-08, 3.7766e-06, 2.5640e-07, 3.6911e-07,\n",
              "            1.9436e-08, 2.5381e-09, 4.4086e-08, 2.9992e-08, 1.3562e-03, 3.0780e-07,\n",
              "            4.8970e-07, 1.0612e-07, 5.2952e-08, 5.1564e-07, 1.0428e-08, 5.5548e-08,\n",
              "            5.4917e-08, 4.9189e-09, 2.0488e-08, 3.7060e-08, 7.1280e-09, 4.5936e-08,\n",
              "            3.9102e-06, 5.7288e-08, 2.5896e-08, 1.0619e-08, 3.8749e-08, 2.7974e-09],\n",
              "           device='cuda:0'),\n",
              "    'step': 3190},\n",
              "   17: {'exp_avg': tensor([ 1.5824e-05, -5.6052e-45,  2.4360e-12, -5.6052e-45, -4.8790e-25,\n",
              "             8.3091e-22,  7.7587e-38, -6.7543e-43,  6.4416e-13,  4.3759e-36,\n",
              "            -7.8074e-12,  1.0625e-14,  3.0010e-19,  1.8191e-39,  1.8137e-20,\n",
              "            -4.4041e-11, -5.6052e-45,  5.6052e-45, -5.6052e-45,  2.1323e-13,\n",
              "            -1.2504e-11, -1.2161e-28, -1.4263e-40,  1.8792e-21, -5.6052e-45,\n",
              "            -5.6052e-45, -5.6052e-45, -6.2074e-33,  2.2073e-15, -2.9509e-13,\n",
              "            -2.7222e-38, -5.6052e-45, -1.1617e-20, -9.5583e-08,  2.6170e-34,\n",
              "            -4.7309e-23, -1.2666e-21, -2.1577e-10, -1.3978e-11, -1.1146e-03,\n",
              "            -5.6052e-45,  5.6052e-45, -9.3934e-18, -6.3896e-13,  2.5325e-18,\n",
              "            -3.4994e-16,  2.2131e-28,  5.6052e-45, -1.4453e-30,  2.0222e-29,\n",
              "            -5.0575e-25,  5.6052e-45, -1.1416e-29, -5.6052e-45, -5.6052e-45,\n",
              "            -2.1774e-17, -1.4400e-29, -1.3185e-18, -3.4626e-18, -5.6052e-45,\n",
              "             1.3887e-10, -5.6052e-45,  1.1196e-33, -3.6029e-28, -1.5453e-04,\n",
              "            -9.6906e-04,  6.1304e-13, -2.0219e-13, -4.7598e-11,  5.2017e-15,\n",
              "            -7.9964e-10,  2.2933e-17,  4.2210e-14, -8.5369e-15,  3.8969e-19,\n",
              "            -5.9572e-23, -2.0422e-08,  2.9249e-13, -2.0336e-10, -1.7297e-12,\n",
              "             4.9357e-12, -8.4379e-14, -5.6052e-45,  9.2987e-06,  3.7839e-09,\n",
              "             2.6322e-06,  4.3130e-12, -5.9533e-14, -6.0807e-16, -5.6052e-45,\n",
              "            -2.5141e-08,  1.4852e-05,  3.6305e-08, -4.8608e-05,  1.3763e-38,\n",
              "             1.5990e-04, -1.7830e-10, -1.1597e-05,  5.7998e-05, -8.1744e-10,\n",
              "            -2.6416e-12, -6.2529e-07, -1.2594e-04,  8.0220e-05, -5.6052e-45,\n",
              "             4.6594e-15, -5.7640e-09,  2.5287e-08,  1.8602e-08,  1.7046e-11,\n",
              "             1.7308e-29, -7.4044e-10, -1.8626e-04,  3.2483e-07,  1.5964e-14,\n",
              "            -6.4504e-20, -2.3604e-05, -8.6684e-06, -5.6052e-45, -6.3625e-07,\n",
              "             1.8876e-04, -2.0396e-23, -7.7853e-07, -3.6405e-04,  2.6007e-05,\n",
              "             1.2767e-06, -5.1385e-25,  3.9372e-12, -7.9672e-08,  9.9249e-14,\n",
              "             1.5502e-13,  4.0117e-34,  1.6131e-18, -4.1497e-23,  3.2759e-36,\n",
              "            -4.1555e-08, -1.5283e-14, -8.9597e-37,  5.4529e-14,  5.9498e-17,\n",
              "            -9.4028e-19, -5.7241e-12,  2.4018e-21, -2.4028e-13, -2.1577e-23,\n",
              "            -1.6786e-13,  5.6052e-45, -4.4386e-14, -1.2113e-13, -1.5515e-29,\n",
              "            -1.0686e-23, -1.8203e-20,  5.6052e-45,  5.6052e-45, -6.4371e-06,\n",
              "            -3.0976e-04,  2.4298e-17,  2.0495e-15,  1.7797e-39, -1.4875e-09,\n",
              "            -5.4342e-15, -1.9814e-04, -1.3953e-36,  2.0032e-25, -1.6504e-07,\n",
              "             2.4042e-12, -1.8746e-13, -2.1821e-05, -5.6052e-45,  5.6052e-45,\n",
              "             2.5104e-18, -5.2756e-15, -2.5033e-13, -2.5462e-17, -1.1411e-29,\n",
              "             3.6872e-18, -1.9692e-10,  1.0712e-30, -3.7421e-27, -5.6052e-45,\n",
              "             6.8383e-32, -5.6052e-45, -5.6052e-45,  1.7564e-10, -1.2497e-13,\n",
              "             1.4881e-11, -1.1532e-17, -5.3642e-30, -3.1488e-09,  5.6052e-45,\n",
              "            -8.8448e-35,  1.7761e-10], device='cuda:0'),\n",
              "    'exp_avg_sq': tensor([1.2008e-10, 1.8192e-10, 1.8002e-11, 2.1526e-08, 8.3281e-09, 2.8708e-11,\n",
              "            3.2714e-11, 9.2478e-10, 1.4891e-08, 1.2797e-10, 4.0559e-11, 6.4264e-08,\n",
              "            3.6562e-10, 2.7704e-10, 2.6109e-10, 5.5311e-11, 2.9791e-10, 4.1066e-12,\n",
              "            1.0227e-10, 4.1963e-07, 3.5872e-08, 3.0967e-10, 1.0908e-08, 7.0676e-11,\n",
              "            4.1070e-10, 2.9757e-12, 3.8268e-10, 9.4952e-10, 6.2224e-11, 9.5534e-11,\n",
              "            1.1206e-10, 8.9473e-10, 8.2493e-11, 5.5846e-08, 7.3074e-08, 1.4255e-09,\n",
              "            3.6338e-08, 1.8397e-07, 8.9245e-09, 2.5896e-06, 1.0737e-10, 8.5674e-13,\n",
              "            1.5801e-10, 5.8035e-09, 8.0694e-10, 1.3151e-08, 4.0052e-10, 2.3266e-09,\n",
              "            3.7281e-11, 8.3503e-12, 5.8105e-10, 6.1314e-11, 6.6872e-07, 1.6098e-08,\n",
              "            1.8161e-10, 4.1967e-11, 2.0649e-09, 1.2371e-09, 1.1940e-11, 6.9127e-11,\n",
              "            1.9206e-09, 1.9141e-10, 3.5213e-10, 3.6693e-10, 1.0820e-07, 1.5862e-07,\n",
              "            8.2285e-09, 3.5902e-08, 4.0697e-09, 5.8503e-10, 2.2140e-08, 7.3831e-10,\n",
              "            6.8657e-09, 3.2130e-09, 2.0844e-09, 6.2446e-10, 2.6642e-08, 6.8479e-08,\n",
              "            1.4764e-09, 4.0863e-09, 6.9741e-10, 2.4045e-09, 3.8001e-10, 1.4467e-07,\n",
              "            2.2937e-07, 9.0399e-08, 2.9040e-08, 3.8217e-09, 2.6089e-08, 3.4538e-10,\n",
              "            4.1769e-09, 2.4357e-09, 9.2379e-10, 1.1850e-07, 5.9806e-09, 2.7048e-06,\n",
              "            2.6482e-08, 2.4122e-08, 1.6966e-08, 2.7024e-08, 1.4038e-09, 5.5614e-08,\n",
              "            1.8332e-07, 1.1586e-08, 3.7610e-10, 4.3882e-10, 2.0048e-10, 1.3778e-08,\n",
              "            2.5502e-08, 1.1138e-07, 6.0710e-08, 1.7827e-08, 2.8500e-07, 4.1621e-08,\n",
              "            2.7327e-09, 2.0788e-08, 1.0733e-06, 1.8516e-07, 5.9428e-10, 1.3931e-09,\n",
              "            2.3297e-05, 1.0655e-08, 7.8021e-09, 6.3797e-07, 9.6434e-09, 2.1678e-08,\n",
              "            1.3760e-08, 2.1447e-10, 1.5959e-08, 4.4684e-08, 2.7031e-09, 2.1674e-08,\n",
              "            1.2330e-09, 2.1751e-09, 9.1172e-09, 9.9468e-09, 2.3209e-09, 1.1031e-08,\n",
              "            5.0523e-09, 3.3941e-09, 9.5909e-09, 2.1685e-08, 1.7440e-08, 1.3022e-08,\n",
              "            2.6556e-09, 5.9588e-09, 5.4870e-09, 3.5534e-10, 2.0547e-08, 2.6935e-09,\n",
              "            1.1664e-08, 8.9181e-09, 6.4011e-09, 3.4446e-08, 3.8761e-08, 9.4998e-07,\n",
              "            1.2523e-08, 2.1346e-08, 4.9045e-08, 4.1907e-09, 2.6645e-09, 1.8491e-07,\n",
              "            1.8165e-08, 2.4871e-08, 3.5596e-08, 2.8409e-09, 2.5513e-09, 2.7252e-08,\n",
              "            4.8020e-09, 6.3998e-10, 1.0114e-08, 7.2514e-09, 4.4566e-09, 2.2375e-08,\n",
              "            1.4241e-08, 1.1895e-08, 1.3411e-08, 1.2519e-08, 5.2695e-09, 1.4729e-08,\n",
              "            1.2194e-08, 1.8156e-09, 4.9703e-09, 1.0857e-08, 1.1838e-09, 1.2745e-08,\n",
              "            3.3384e-10, 1.4993e-08, 1.2056e-08, 2.5984e-09, 1.1247e-08, 1.2832e-09],\n",
              "           device='cuda:0'),\n",
              "    'step': 3190},\n",
              "   18: {'exp_avg': tensor([[ 9.6183e-35,  8.4208e-35,  1.3646e-34,  ..., -3.4799e-36,\n",
              "              6.1630e-36, -1.8487e-36],\n",
              "            [ 8.8150e-35,  7.6566e-35,  1.2456e-34,  ..., -3.0379e-36,\n",
              "              5.5809e-36, -9.2058e-37],\n",
              "            [ 1.1954e-34,  1.0469e-34,  1.6271e-34,  ..., -4.2237e-38,\n",
              "              8.0904e-36, -1.1189e-36],\n",
              "            ...,\n",
              "            [-3.0750e-11, -3.0750e-11,  3.0750e-11,  ..., -2.1197e-11,\n",
              "              1.1080e-11, -1.5188e-12],\n",
              "            [ 3.5363e-16, -3.5455e-16,  2.4643e-16,  ...,  4.6383e-17,\n",
              "             -3.6142e-17,  8.0094e-17],\n",
              "            [-2.6975e-11, -2.6975e-11,  2.6975e-11,  ..., -4.7005e-11,\n",
              "             -2.1016e-10,  1.2540e-10]], device='cuda:0'),\n",
              "    'exp_avg_sq': tensor([[2.0823e-15, 4.1663e-15, 1.3580e-15,  ..., 7.4735e-17, 8.9473e-18,\n",
              "             4.9439e-17],\n",
              "            [2.3094e-15, 4.5797e-15, 1.5560e-15,  ..., 8.0309e-17, 9.9082e-18,\n",
              "             5.2216e-17],\n",
              "            [2.0947e-15, 4.2381e-15, 1.3066e-15,  ..., 7.7587e-17, 9.6874e-18,\n",
              "             4.9621e-17],\n",
              "            ...,\n",
              "            [6.7889e-09, 6.7892e-09, 5.6559e-09,  ..., 6.8526e-09, 2.6318e-09,\n",
              "             5.2457e-09],\n",
              "            [2.9658e-08, 2.9761e-08, 1.7220e-08,  ..., 7.5385e-09, 6.9699e-09,\n",
              "             4.7394e-09],\n",
              "            [6.2466e-09, 6.2507e-09, 6.1356e-09,  ..., 1.4275e-08, 6.5952e-08,\n",
              "             9.8703e-09]], device='cuda:0'),\n",
              "    'step': 3190},\n",
              "   19: {'exp_avg': tensor([1.3818e-34, 1.2624e-34, 1.6460e-34,  ..., 3.0750e-11, 3.5455e-16,\n",
              "            2.6975e-11], device='cuda:0'),\n",
              "    'exp_avg_sq': tensor([1.1764e-12, 1.1894e-12, 1.1839e-12,  ..., 6.7904e-09, 2.9762e-08,\n",
              "            6.2519e-09], device='cuda:0'),\n",
              "    'step': 3190}}},\n",
              " 'scheduler_params': {'_last_lr': [0.1],\n",
              "  'best': 8.141652720101575,\n",
              "  'cooldown': 0,\n",
              "  'cooldown_counter': 0,\n",
              "  'eps': 1e-08,\n",
              "  'factor': 0.1,\n",
              "  'last_epoch': 9,\n",
              "  'min_lrs': [1e-06],\n",
              "  'mode': 'min',\n",
              "  'mode_worse': inf,\n",
              "  'num_bad_epochs': 7,\n",
              "  'patience': 10,\n",
              "  'threshold': 0.001,\n",
              "  'threshold_mode': 'rel',\n",
              "  'verbose': True}}"
            ]
          },
          "metadata": {
            "tags": []
          },
          "execution_count": 65
        }
      ]
    },
    {
      "cell_type": "code",
      "metadata": {
        "id": "jiBBqVvdSpDv"
      },
      "source": [
        "#hype.load_checkpoint = False"
      ],
      "execution_count": 60,
      "outputs": []
    },
    {
      "cell_type": "code",
      "metadata": {
        "id": "-IobAIJgP8Ky"
      },
      "source": [
        "if hype.load_checkpoint:\r\n",
        "  checkpoint = torch.load('seq2seq_attn_checkpoint.pth')\r\n",
        "\r\n",
        "  model.load_state_dict(checkpoint.model_params)\r\n",
        "  optimizer.load_state_dict(checkpoint.optim_params)\r\n",
        "  scheduler.load_state_dict(checkpoint.scheduler_params)\r\n",
        "  print(f\"epochs: {checkpoint.epoch_num} || loss: {checkpoint.losses}\")"
      ],
      "execution_count": 61,
      "outputs": []
    },
    {
      "cell_type": "code",
      "metadata": {
        "id": "dOB3y3DkiYdx"
      },
      "source": [
        "# model.state_dict()"
      ],
      "execution_count": 62,
      "outputs": []
    },
    {
      "cell_type": "code",
      "metadata": {
        "colab": {
          "base_uri": "https://localhost:8080/"
        },
        "id": "GJrZNBXRZCNy",
        "outputId": "faf1ea45-fd93-46c6-aff7-f6f27764085b"
      },
      "source": [
        "vars(hype)"
      ],
      "execution_count": 63,
      "outputs": [
        {
          "output_type": "execute_result",
          "data": {
            "text/plain": [
              "{'BATCH_SIZE': 128,\n",
              " 'CLIP': 1,\n",
              " 'DEVICE': 'cuda',\n",
              " 'LR': 0.1,\n",
              " 'NUM_EPOCHS': 10,\n",
              " 'load_checkpoint': False,\n",
              " 'save_checkpoint': True}"
            ]
          },
          "metadata": {
            "tags": []
          },
          "execution_count": 63
        }
      ]
    },
    {
      "cell_type": "code",
      "metadata": {
        "colab": {
          "base_uri": "https://localhost:8080/",
          "height": 66,
          "referenced_widgets": [
            "0fd7f124045448ab8a5a521e59070bd7",
            "00d758c245de46c1be6df4dd0c471efd",
            "68ff94473b6d4ea09e2fa3ed0ec8bcf5",
            "dfe77ed4e41e4f5b8bc952200284f2cf",
            "2971ef670d9445c898f1e2099d730ee4",
            "71c587f4a0d941159a623320e1be165f",
            "904d797302bb404d97a8e3070c16d6bc",
            "c3aa261c7051407b89863907c2799863"
          ]
        },
        "id": "3MucNUcv_pG9",
        "outputId": "116a556c-8121-416b-9018-7175dfb5bd3e"
      },
      "source": [
        "epoch_t = notebook.trange(hype.NUM_EPOCHS, desc='loss')\r\n",
        "\r\n",
        "for epoch in epoch_t:\r\n",
        "\r\n",
        "  train_loss = train(model,train_iter, optimizer, criterion, hype.CLIP, hype.DEVICE)\r\n",
        "\r\n",
        "  checkpoint.epoch_num += 1 \r\n",
        "  checkpoint.model_params = model.state_dict()\r\n",
        "  checkpoint.optim_params = optimizer.state_dict()\r\n",
        "  checkpoint.scheduler_params = scheduler.state_dict()\r\n",
        "  checkpoint.losses.append(train_loss)\r\n",
        "\r\n",
        "  if hype.save_checkpoint:\r\n",
        "    torch.save(checkpoint,'seq2seq_attn_checkpoint.pth')\r\n",
        "    \r\n",
        "  scheduler.step(train_loss)\r\n",
        "\r\n",
        "  epoch_t.set_description(f\"loss: {train_loss: .5f}\")\r\n",
        "  epoch_t.refresh()"
      ],
      "execution_count": 77,
      "outputs": [
        {
          "output_type": "display_data",
          "data": {
            "application/vnd.jupyter.widget-view+json": {
              "model_id": "0fd7f124045448ab8a5a521e59070bd7",
              "version_major": 2,
              "version_minor": 0
            },
            "text/plain": [
              "HBox(children=(FloatProgress(value=0.0, description='loss', style=ProgressStyle(description_width='initial')),…"
            ]
          },
          "metadata": {
            "tags": []
          }
        },
        {
          "output_type": "stream",
          "text": [
            "\n"
          ],
          "name": "stdout"
        }
      ]
    },
    {
      "cell_type": "code",
      "metadata": {
        "id": "2-d9f0nIB0no"
      },
      "source": [
        "# # Saving a checkpoint\r\n",
        "\r\n",
        "# if hype.save_checkpoint:\r\n",
        "#   checkpoint.model_params = model.state_dict()\r\n",
        "#   checkpoint.optim_params = optimizer.state_dict()\r\n",
        "#   torch.save(checkpoint,'seq2seq_attn_checkpoint.pth')  "
      ],
      "execution_count": null,
      "outputs": []
    },
    {
      "cell_type": "markdown",
      "metadata": {
        "id": "d4iGhvZydSQd"
      },
      "source": [
        "## Loss Curve"
      ]
    },
    {
      "cell_type": "code",
      "metadata": {
        "colab": {
          "base_uri": "https://localhost:8080/",
          "height": 483
        },
        "id": "go7yAo-CdUmh",
        "outputId": "a2451282-2f57-4031-e0b1-3878262501f1"
      },
      "source": [
        "plt.figure(figsize=(15,8))\r\n",
        "plt.plot(checkpoint.losses)\r\n",
        "plt.show()"
      ],
      "execution_count": 79,
      "outputs": [
        {
          "output_type": "display_data",
          "data": {
            "image/png": "[encoded data removed]",
            "text/plain": [
              "<Figure size 1080x576 with 1 Axes>"
            ]
          },
          "metadata": {
            "tags": [],
            "needs_background": "light"
          }
        }
      ]
    },
    {
      "cell_type": "markdown",
      "metadata": {
        "id": "FdrO9trQnwK8"
      },
      "source": [
        "## Inference"
      ]
    },
    {
      "cell_type": "code",
      "metadata": {
        "id": "QBh_ugPXoshz"
      },
      "source": [
        "def translate_sentence(sentence, src_tokenizer, trg_tokenizer, src_vocab, trg_vocab, model, device, max_len = 50):\r\n",
        "\r\n",
        "    model.eval()\r\n",
        "\r\n",
        "    if isinstance(sentence, str):\r\n",
        "        tokens = [token.lower() for token in src_tokenizer(sentence)]\r\n",
        "    else:\r\n",
        "        tokens = [token.lower() for token in sentence]\r\n",
        "\r\n",
        "    tokens = [src_vocab.stoi['<sos>']] + tokens + [src_vocab.stoi['<eos>']]\r\n",
        "        \r\n",
        "    src_indexes = [src_vocab.stoi[token] for token in tokens]\r\n",
        "    \r\n",
        "    src_tensor = torch.LongTensor(src_indexes).unsqueeze(1).to(device)\r\n",
        "\r\n",
        "    src_len = torch.LongTensor([len(src_indexes)]).to(device)\r\n",
        "    \r\n",
        "    with torch.no_grad():\r\n",
        "        encoder_outputs, hidden = model.encoder(src_tensor)\r\n",
        "\r\n",
        "    # mask = model.create_mask(src_tensor)\r\n",
        "        \r\n",
        "    trg_indexes = [trg_vocab.stoi['<sos>']]\r\n",
        "\r\n",
        "    # attentions = torch.zeros(max_len, 1, len(src_indexes)).to(device)\r\n",
        "    \r\n",
        "    for i in range(max_len):\r\n",
        "\r\n",
        "        trg_tensor = torch.LongTensor([trg_indexes[-1]]).to(device)\r\n",
        "                \r\n",
        "        with torch.no_grad():\r\n",
        "            output, hidden = model.decoder(trg_tensor, hidden, encoder_outputs,)\r\n",
        "\r\n",
        "        # attentions[i] = attention\r\n",
        "            \r\n",
        "        pred_token = output.argmax(1).item()\r\n",
        "        \r\n",
        "        trg_indexes.append(pred_token)\r\n",
        "\r\n",
        "        if pred_token == trg_vocab.stoi['<eos>']:\r\n",
        "            break\r\n",
        "    \r\n",
        "    trg_tokens = [trg_vocab.itos[i] for i in trg_indexes]\r\n",
        "    \r\n",
        "    return trg_tokens[1:]"
      ],
      "execution_count": 80,
      "outputs": []
    },
    {
      "cell_type": "code",
      "metadata": {
        "colab": {
          "base_uri": "https://localhost:8080/"
        },
        "id": "7XCBSRPBq0yA",
        "outputId": "3b4890ca-d707-4ecb-cb11-b6580d10b8c5"
      },
      "source": [
        "sentence = data['marathi'][20002]\r\n",
        "translation = data['english'][20002]\r\n",
        "print(sentence)\r\n",
        "out = translate_sentence(sentence, tokenize_mar, tokenize_eng, mar_vocab, eng_vocab, model, hype.DEVICE)\r\n",
        "print(translation)\r\n",
        "print(out)"
      ],
      "execution_count": 84,
      "outputs": [
        {
          "output_type": "stream",
          "text": [
            "हे बटण कधीही दाबू नकोस.\n",
            "Never press this button.\n",
            "['Flash', 'content', 'demonstrations', 'nun', 'Flash', 'content', 'Flash', 'content', 'Flash', 'content', 'Flash', 'content', 'Flash', 'content', 'Flash', 'content', 'Flash', 'content', 'Flash', 'content', 'Flash', 'content', 'Flash', 'content', 'Flash', 'content', 'Flash', 'content', 'Flash', 'content', 'Flash', 'content', 'Flash', 'content', 'Flash', 'content', 'Flash', 'content', 'Flash', 'content', 'Flash', 'content', 'Flash', 'content', 'Flash', 'content', 'Flash', 'content', 'Flash', 'content']\n"
          ],
          "name": "stdout"
        }
      ]
    },
    {
      "cell_type": "markdown",
      "metadata": {
        "id": "qSJBY23Uq522"
      },
      "source": [
        "## BLEU Score"
      ]
    },
    {
      "cell_type": "code",
      "metadata": {
        "id": "oW451gOXxAzQ"
      },
      "source": [
        "from torchtext.data.metrics import bleu_score"
      ],
      "execution_count": 99,
      "outputs": []
    },
    {
      "cell_type": "code",
      "metadata": {
        "id": "pqS9X-RowQrQ"
      },
      "source": [
        "def calculate_bleu_score(data, src_tokenizer, trg_tokenizer, src_vocab, trg_vocab, model, device):\r\n",
        "  \r\n",
        "  trgs = []\r\n",
        "  preds = []\r\n",
        "\r\n",
        "  for i in range(len(data)):\r\n",
        "    src = data['marathi'][i]\r\n",
        "    trg = data['english'][i]\r\n",
        "\r\n",
        "    trg = trg_tokenizer(trg)\r\n",
        "\r\n",
        "    pred = translate_sentence(src, src_tokenizer, trg_tokenizer, src_vocab, trg_vocab, model, device)\r\n",
        "\r\n",
        "    #preds.append(trg)\r\n",
        "    preds.append(pred[:-1])\r\n",
        "    trgs.append([trg])\r\n",
        "\r\n",
        "  return bleu_score(preds, trgs)"
      ],
      "execution_count": 113,
      "outputs": []
    },
    {
      "cell_type": "code",
      "metadata": {
        "colab": {
          "base_uri": "https://localhost:8080/"
        },
        "id": "7CiLX7ikxAGD",
        "outputId": "1ea1aa3b-4d9d-4ba6-c9e6-18373dda6fd5"
      },
      "source": [
        "bleu = calculate_bleu_score(data, tokenize_mar, tokenize_eng, mar_vocab, eng_vocab, model, hype.DEVICE)\r\n",
        "print(f\"The BLEU score is {bleu*100:.2f}\")"
      ],
      "execution_count": 115,
      "outputs": [
        {
          "output_type": "stream",
          "text": [
            "The BLEU score is 3.27\n"
          ],
          "name": "stdout"
        }
      ]
    }
  ]
}