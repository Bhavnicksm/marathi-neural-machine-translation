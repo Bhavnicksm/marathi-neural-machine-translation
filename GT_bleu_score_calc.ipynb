{
  "nbformat": 4,
  "nbformat_minor": 0,
  "metadata": {
    "colab": {
      "name": "GT_bleu_score_calc.ipynb",
      "provenance": [],
      "authorship_tag": "ABX9TyOygql/im2Eab6v3tE9srw6",
      "include_colab_link": true
    },
    "kernelspec": {
      "name": "python3",
      "display_name": "Python 3"
    }
  },
  "cells": [
    {
      "cell_type": "markdown",
      "metadata": {
        "id": "view-in-github",
        "colab_type": "text"
      },
      "source": [
        "<a href=\"https://colab.research.google.com/github/Bhavnicksm/marathi-neural-machine-translation/blob/main/GT_bleu_score_calc.ipynb\" target=\"_parent\"><img src=\"https://colab.research.google.com/assets/colab-badge.svg\" alt=\"Open In Colab\"/></a>"
      ]
    },
    {
      "cell_type": "markdown",
      "metadata": {
        "id": "_v_YRxEzTP-G"
      },
      "source": [
        "The purpose of this notebook is to calculate the bleu score of translation made by Google Translate for comparison with our own model. Let's begin.\r\n",
        "\r\n",
        "**Before beginning make sure you have data.csv in the working directory.**"
      ]
    },
    {
      "cell_type": "code",
      "metadata": {
        "id": "IOnvlPjTThxv"
      },
      "source": [
        "#!pip install googletrans\r\n",
        "#!pip install mtranslate"
      ],
      "execution_count": 1,
      "outputs": []
    },
    {
      "cell_type": "code",
      "metadata": {
        "id": "OujJ35_jcnSS"
      },
      "source": [
        "#!python -m spacy download en"
      ],
      "execution_count": 2,
      "outputs": []
    },
    {
      "cell_type": "code",
      "metadata": {
        "id": "8dFy1rgkdqWT"
      },
      "source": [
        "#!pip install torchtext==0.8.0"
      ],
      "execution_count": 3,
      "outputs": []
    },
    {
      "cell_type": "markdown",
      "metadata": {
        "id": "_hY89ro5VeG9"
      },
      "source": [
        "## Importing the data"
      ]
    },
    {
      "cell_type": "code",
      "metadata": {
        "id": "GoyXqfq5Vo5m"
      },
      "source": [
        "import pandas as pd"
      ],
      "execution_count": 4,
      "outputs": []
    },
    {
      "cell_type": "code",
      "metadata": {
        "colab": {
          "base_uri": "https://localhost:8080/",
          "height": 195
        },
        "id": "VbDFPNvRVryE",
        "outputId": "f20738b5-0ed3-45a1-87dd-108fcd1ac7c3"
      },
      "source": [
        "data = pd.read_csv(\"data.csv\", header=None )\r\n",
        "data.columns=['english', 'marathi']\r\n",
        "data.tail()"
      ],
      "execution_count": 5,
      "outputs": [
        {
          "output_type": "execute_result",
          "data": {
            "text/html": [
              "<div>\n",
              "<style scoped>\n",
              "    .dataframe tbody tr th:only-of-type {\n",
              "        vertical-align: middle;\n",
              "    }\n",
              "\n",
              "    .dataframe tbody tr th {\n",
              "        vertical-align: top;\n",
              "    }\n",
              "\n",
              "    .dataframe thead th {\n",
              "        text-align: right;\n",
              "    }\n",
              "</style>\n",
              "<table border=\"1\" class=\"dataframe\">\n",
              "  <thead>\n",
              "    <tr style=\"text-align: right;\">\n",
              "      <th></th>\n",
              "      <th>english</th>\n",
              "      <th>marathi</th>\n",
              "    </tr>\n",
              "  </thead>\n",
              "  <tbody>\n",
              "    <tr>\n",
              "      <th>40746</th>\n",
              "      <td>Just saying you don't like fish because of the...</td>\n",
              "      <td>हड्डींमुळे मासे आवडत नाही असं म्हणणं हे काय मा...</td>\n",
              "    </tr>\n",
              "    <tr>\n",
              "      <th>40747</th>\n",
              "      <td>The Japanese Parliament today officially elect...</td>\n",
              "      <td>आज जपानी संसदेने अधिकृतरित्या र्‍यौतारौ हाशिमो...</td>\n",
              "    </tr>\n",
              "    <tr>\n",
              "      <th>40748</th>\n",
              "      <td>Tom tried to sell his old VCR instead of throw...</td>\n",
              "      <td>टॉमने त्याचा जुना व्ही.सी.आर फेकून टाकण्याऐवजी...</td>\n",
              "    </tr>\n",
              "    <tr>\n",
              "      <th>40749</th>\n",
              "      <td>You can't view Flash content on an iPad. Howev...</td>\n",
              "      <td>आयपॅडवर फ्लॅश आशय बघता येत नाही. पण तुम्ही त्य...</td>\n",
              "    </tr>\n",
              "    <tr>\n",
              "      <th>40750</th>\n",
              "      <td>In 1969, Roger Miller recorded a song called \"...</td>\n",
              "      <td>१९६९मध्ये रॉजर मिलरने \"यू डोन्ट वॉन्ट माय लव्ह...</td>\n",
              "    </tr>\n",
              "  </tbody>\n",
              "</table>\n",
              "</div>"
            ],
            "text/plain": [
              "                                                 english                                            marathi\n",
              "40746  Just saying you don't like fish because of the...  हड्डींमुळे मासे आवडत नाही असं म्हणणं हे काय मा...\n",
              "40747  The Japanese Parliament today officially elect...  आज जपानी संसदेने अधिकृतरित्या र्‍यौतारौ हाशिमो...\n",
              "40748  Tom tried to sell his old VCR instead of throw...  टॉमने त्याचा जुना व्ही.सी.आर फेकून टाकण्याऐवजी...\n",
              "40749  You can't view Flash content on an iPad. Howev...  आयपॅडवर फ्लॅश आशय बघता येत नाही. पण तुम्ही त्य...\n",
              "40750  In 1969, Roger Miller recorded a song called \"...  १९६९मध्ये रॉजर मिलरने \"यू डोन्ट वॉन्ट माय लव्ह..."
            ]
          },
          "metadata": {
            "tags": []
          },
          "execution_count": 5
        }
      ]
    },
    {
      "cell_type": "markdown",
      "metadata": {
        "id": "ldUuad6qVi4P"
      },
      "source": [
        "## Setting up the translator"
      ]
    },
    {
      "cell_type": "code",
      "metadata": {
        "id": "SkMbsWx0UAZf"
      },
      "source": [
        "import googletrans\r\n",
        "from googletrans import Translator"
      ],
      "execution_count": 6,
      "outputs": []
    },
    {
      "cell_type": "code",
      "metadata": {
        "id": "q4VvDwUfZ1wK"
      },
      "source": [
        "import mtranslate"
      ],
      "execution_count": 7,
      "outputs": []
    },
    {
      "cell_type": "code",
      "metadata": {
        "colab": {
          "base_uri": "https://localhost:8080/"
        },
        "id": "JSllvASLbiOi",
        "outputId": "70ea4d4c-b0d9-4973-fc6f-045574ee8844"
      },
      "source": [
        "sent_mr = data['marathi'][20000]\r\n",
        "sent_en = data['english'][20000]\r\n",
        "print(sent_mr)\r\n",
        "print(sent_en)"
      ],
      "execution_count": 8,
      "outputs": [
        {
          "output_type": "stream",
          "text": [
            "ते काय म्हणाले ते सोडा.\n",
            "Never mind what he said.\n"
          ],
          "name": "stdout"
        }
      ]
    },
    {
      "cell_type": "code",
      "metadata": {
        "colab": {
          "base_uri": "https://localhost:8080/",
          "height": 35
        },
        "id": "WtNOFNymbvoV",
        "outputId": "19cb8061-fffb-40f5-8542-28f6c4a2fe83"
      },
      "source": [
        "mtranslate.translate(sent_mr,'en','mr')"
      ],
      "execution_count": 9,
      "outputs": [
        {
          "output_type": "execute_result",
          "data": {
            "application/vnd.google.colaboratory.intrinsic+json": {
              "type": "string"
            },
            "text/plain": [
              "'Leave what they said.'"
            ]
          },
          "metadata": {
            "tags": []
          },
          "execution_count": 9
        }
      ]
    },
    {
      "cell_type": "markdown",
      "metadata": {
        "id": "SSVeOwRdb0JN"
      },
      "source": [
        "## BLEU Score"
      ]
    },
    {
      "cell_type": "code",
      "metadata": {
        "id": "sg6s0KTlcXmc"
      },
      "source": [
        "#before going to calc the bleu we need an english tokenizer"
      ],
      "execution_count": 10,
      "outputs": []
    },
    {
      "cell_type": "code",
      "metadata": {
        "id": "3skVmCMOcjf4"
      },
      "source": [
        "import torchtext\r\n",
        "from torchtext.data.metrics import bleu_score\r\n",
        "import spacy\r\n",
        "spacy_en = spacy.load('en')"
      ],
      "execution_count": 11,
      "outputs": []
    },
    {
      "cell_type": "code",
      "metadata": {
        "id": "VGihVgsNcxXP"
      },
      "source": [
        "def tokenize_en(text):\r\n",
        "  return [tok.text for tok in spacy_en.tokenizer(text)]"
      ],
      "execution_count": 12,
      "outputs": []
    },
    {
      "cell_type": "code",
      "metadata": {
        "id": "1d8yVh-0c6am"
      },
      "source": [
        "def calculate_bleu_score(data, trg_tokenizer):\r\n",
        "  \r\n",
        "  trgs = []\r\n",
        "  preds = []\r\n",
        "\r\n",
        "  for i in range(len(data)):\r\n",
        "    src = data['marathi'][i]\r\n",
        "    trg = data['english'][i]\r\n",
        "\r\n",
        "    trg = trg_tokenizer(trg)\r\n",
        "\r\n",
        "    pred = mtranslate.translate(src,'en','mr')\r\n",
        "    pred = trg_tokenizer(pred)\r\n",
        "    \r\n",
        "    #preds.append(trg)\r\n",
        "    preds.append(pred)\r\n",
        "    trgs.append([trg])\r\n",
        "\r\n",
        "  return bleu_score(preds, trgs)"
      ],
      "execution_count": 13,
      "outputs": []
    },
    {
      "cell_type": "code",
      "metadata": {
        "colab": {
          "base_uri": "https://localhost:8080/"
        },
        "id": "0zdnPAUsdgWm",
        "outputId": "2e41ba4b-4029-4d30-9d7c-06111c41d26d"
      },
      "source": [
        "bleu = calculate_bleu_score(data, tokenize_en)\r\n",
        "print(f\"The BLEU score is {bleu*100:.2f}\")"
      ],
      "execution_count": 14,
      "outputs": [
        {
          "output_type": "stream",
          "text": [
            "The BLEU score is 63.80\n"
          ],
          "name": "stdout"
        }
      ]
    }
  ]
}